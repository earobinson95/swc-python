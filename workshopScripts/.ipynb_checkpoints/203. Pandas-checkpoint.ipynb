{
 "cells": [
  {
   "cell_type": "markdown",
   "metadata": {},
   "source": [
    "https://grwoodw.github.io/python102/03-pandas/"
   ]
  },
  {
   "cell_type": "markdown",
   "metadata": {},
   "source": [
    "## Questions\n",
    "What is Pandas and why should I use it?\n",
    "\n",
    "## Objectives\n",
    "Creating a pandas DataFrame\n",
    "\n",
    "Indexing DataFrames\n",
    "\n",
    "Listing column names of a DataFramePrinting elements of a DataFrame by indexing\n",
    "\n",
    "Reading in data from a CSV into a DataFrame\n",
    "\n",
    "Analyzing a DataFrame using built in functions ( df.sum() , df.cumsum() , df.std() )"
   ]
  },
  {
   "cell_type": "code",
   "execution_count": 33,
   "metadata": {},
   "outputs": [],
   "source": [
    "import numpy as np\n",
    "import pandas as pd\n",
    "import matplotlib.pyplot as plt"
   ]
  },
  {
   "cell_type": "code",
   "execution_count": 5,
   "metadata": {},
   "outputs": [
    {
     "data": {
      "text/html": [
       "<div>\n",
       "<style scoped>\n",
       "    .dataframe tbody tr th:only-of-type {\n",
       "        vertical-align: middle;\n",
       "    }\n",
       "\n",
       "    .dataframe tbody tr th {\n",
       "        vertical-align: top;\n",
       "    }\n",
       "\n",
       "    .dataframe thead th {\n",
       "        text-align: right;\n",
       "    }\n",
       "</style>\n",
       "<table border=\"1\" class=\"dataframe\">\n",
       "  <thead>\n",
       "    <tr style=\"text-align: right;\">\n",
       "      <th></th>\n",
       "      <th>0</th>\n",
       "      <th>1</th>\n",
       "      <th>2</th>\n",
       "      <th>3</th>\n",
       "      <th>4</th>\n",
       "    </tr>\n",
       "  </thead>\n",
       "  <tbody>\n",
       "    <tr>\n",
       "      <th>0</th>\n",
       "      <td>14.858686</td>\n",
       "      <td>16.203555</td>\n",
       "      <td>2.768279</td>\n",
       "      <td>38.068660</td>\n",
       "      <td>23.455634</td>\n",
       "    </tr>\n",
       "    <tr>\n",
       "      <th>1</th>\n",
       "      <td>1.912388</td>\n",
       "      <td>8.830437</td>\n",
       "      <td>12.620198</td>\n",
       "      <td>18.142429</td>\n",
       "      <td>31.397519</td>\n",
       "    </tr>\n",
       "    <tr>\n",
       "      <th>2</th>\n",
       "      <td>247.190276</td>\n",
       "      <td>31.466881</td>\n",
       "      <td>22.731309</td>\n",
       "      <td>50.604681</td>\n",
       "      <td>12.815181</td>\n",
       "    </tr>\n",
       "    <tr>\n",
       "      <th>3</th>\n",
       "      <td>23.079741</td>\n",
       "      <td>6.622915</td>\n",
       "      <td>11.213211</td>\n",
       "      <td>130.738214</td>\n",
       "      <td>12.654930</td>\n",
       "    </tr>\n",
       "    <tr>\n",
       "      <th>4</th>\n",
       "      <td>5.746215</td>\n",
       "      <td>11.082504</td>\n",
       "      <td>19.895661</td>\n",
       "      <td>26.468886</td>\n",
       "      <td>31.566447</td>\n",
       "    </tr>\n",
       "    <tr>\n",
       "      <th>...</th>\n",
       "      <td>...</td>\n",
       "      <td>...</td>\n",
       "      <td>...</td>\n",
       "      <td>...</td>\n",
       "      <td>...</td>\n",
       "    </tr>\n",
       "    <tr>\n",
       "      <th>95</th>\n",
       "      <td>22.722701</td>\n",
       "      <td>53.694557</td>\n",
       "      <td>26.956247</td>\n",
       "      <td>7.747972</td>\n",
       "      <td>53.130122</td>\n",
       "    </tr>\n",
       "    <tr>\n",
       "      <th>96</th>\n",
       "      <td>35.591094</td>\n",
       "      <td>11.069737</td>\n",
       "      <td>50.799125</td>\n",
       "      <td>9.940857</td>\n",
       "      <td>3.361424</td>\n",
       "    </tr>\n",
       "    <tr>\n",
       "      <th>97</th>\n",
       "      <td>25.691153</td>\n",
       "      <td>8.990027</td>\n",
       "      <td>36.055461</td>\n",
       "      <td>97.970613</td>\n",
       "      <td>128.723707</td>\n",
       "    </tr>\n",
       "    <tr>\n",
       "      <th>98</th>\n",
       "      <td>15.331877</td>\n",
       "      <td>17.120122</td>\n",
       "      <td>57.539402</td>\n",
       "      <td>18.765588</td>\n",
       "      <td>16.562915</td>\n",
       "    </tr>\n",
       "    <tr>\n",
       "      <th>99</th>\n",
       "      <td>54.661917</td>\n",
       "      <td>5.961391</td>\n",
       "      <td>172.355722</td>\n",
       "      <td>102.830862</td>\n",
       "      <td>37.514985</td>\n",
       "    </tr>\n",
       "  </tbody>\n",
       "</table>\n",
       "<p>100 rows × 5 columns</p>\n",
       "</div>"
      ],
      "text/plain": [
       "             0          1           2           3           4\n",
       "0    14.858686  16.203555    2.768279   38.068660   23.455634\n",
       "1     1.912388   8.830437   12.620198   18.142429   31.397519\n",
       "2   247.190276  31.466881   22.731309   50.604681   12.815181\n",
       "3    23.079741   6.622915   11.213211  130.738214   12.654930\n",
       "4     5.746215  11.082504   19.895661   26.468886   31.566447\n",
       "..         ...        ...         ...         ...         ...\n",
       "95   22.722701  53.694557   26.956247    7.747972   53.130122\n",
       "96   35.591094  11.069737   50.799125    9.940857    3.361424\n",
       "97   25.691153   8.990027   36.055461   97.970613  128.723707\n",
       "98   15.331877  17.120122   57.539402   18.765588   16.562915\n",
       "99   54.661917   5.961391  172.355722  102.830862   37.514985\n",
       "\n",
       "[100 rows x 5 columns]"
      ]
     },
     "execution_count": 5,
     "metadata": {},
     "output_type": "execute_result"
    }
   ],
   "source": [
    "raw_data = np.random.lognormal(3., 1., (100,5))\n",
    "df = pd.DataFrame(raw_data)\n",
    "df"
   ]
  },
  {
   "cell_type": "code",
   "execution_count": 7,
   "metadata": {},
   "outputs": [
    {
     "data": {
      "text/plain": [
       "pandas.core.frame.DataFrame"
      ]
     },
     "execution_count": 7,
     "metadata": {},
     "output_type": "execute_result"
    }
   ],
   "source": [
    "type(df)"
   ]
  },
  {
   "cell_type": "code",
   "execution_count": 8,
   "metadata": {},
   "outputs": [
    {
     "data": {
      "text/plain": [
       "0    float64\n",
       "1    float64\n",
       "2    float64\n",
       "3    float64\n",
       "4    float64\n",
       "dtype: object"
      ]
     },
     "execution_count": 8,
     "metadata": {},
     "output_type": "execute_result"
    }
   ],
   "source": [
    "df.dtypes"
   ]
  },
  {
   "cell_type": "code",
   "execution_count": 12,
   "metadata": {},
   "outputs": [
    {
     "data": {
      "text/html": [
       "<div>\n",
       "<style scoped>\n",
       "    .dataframe tbody tr th:only-of-type {\n",
       "        vertical-align: middle;\n",
       "    }\n",
       "\n",
       "    .dataframe tbody tr th {\n",
       "        vertical-align: top;\n",
       "    }\n",
       "\n",
       "    .dataframe thead th {\n",
       "        text-align: right;\n",
       "    }\n",
       "</style>\n",
       "<table border=\"1\" class=\"dataframe\">\n",
       "  <thead>\n",
       "    <tr style=\"text-align: right;\">\n",
       "      <th></th>\n",
       "      <th>s1</th>\n",
       "      <th>s2</th>\n",
       "      <th>s3</th>\n",
       "      <th>s4</th>\n",
       "      <th>temperature</th>\n",
       "    </tr>\n",
       "  </thead>\n",
       "  <tbody>\n",
       "    <tr>\n",
       "      <th>0</th>\n",
       "      <td>14.858686</td>\n",
       "      <td>16.203555</td>\n",
       "      <td>2.768279</td>\n",
       "      <td>38.068660</td>\n",
       "      <td>23.455634</td>\n",
       "    </tr>\n",
       "    <tr>\n",
       "      <th>1</th>\n",
       "      <td>1.912388</td>\n",
       "      <td>8.830437</td>\n",
       "      <td>12.620198</td>\n",
       "      <td>18.142429</td>\n",
       "      <td>31.397519</td>\n",
       "    </tr>\n",
       "    <tr>\n",
       "      <th>2</th>\n",
       "      <td>247.190276</td>\n",
       "      <td>31.466881</td>\n",
       "      <td>22.731309</td>\n",
       "      <td>50.604681</td>\n",
       "      <td>12.815181</td>\n",
       "    </tr>\n",
       "    <tr>\n",
       "      <th>3</th>\n",
       "      <td>23.079741</td>\n",
       "      <td>6.622915</td>\n",
       "      <td>11.213211</td>\n",
       "      <td>130.738214</td>\n",
       "      <td>12.654930</td>\n",
       "    </tr>\n",
       "    <tr>\n",
       "      <th>4</th>\n",
       "      <td>5.746215</td>\n",
       "      <td>11.082504</td>\n",
       "      <td>19.895661</td>\n",
       "      <td>26.468886</td>\n",
       "      <td>31.566447</td>\n",
       "    </tr>\n",
       "  </tbody>\n",
       "</table>\n",
       "</div>"
      ],
      "text/plain": [
       "           s1         s2         s3          s4  temperature\n",
       "0   14.858686  16.203555   2.768279   38.068660    23.455634\n",
       "1    1.912388   8.830437  12.620198   18.142429    31.397519\n",
       "2  247.190276  31.466881  22.731309   50.604681    12.815181\n",
       "3   23.079741   6.622915  11.213211  130.738214    12.654930\n",
       "4    5.746215  11.082504  19.895661   26.468886    31.566447"
      ]
     },
     "execution_count": 12,
     "metadata": {},
     "output_type": "execute_result"
    }
   ],
   "source": [
    "df.head() # gives first 5 rows"
   ]
  },
  {
   "cell_type": "code",
   "execution_count": 9,
   "metadata": {},
   "outputs": [
    {
     "data": {
      "text/plain": [
       "RangeIndex(start=0, stop=5, step=1)"
      ]
     },
     "execution_count": 9,
     "metadata": {},
     "output_type": "execute_result"
    }
   ],
   "source": [
    "df.columns #description of column names"
   ]
  },
  {
   "cell_type": "code",
   "execution_count": 13,
   "metadata": {},
   "outputs": [],
   "source": [
    "df.columns = ['s1', 's2', 's3', 's4', 'temperature']"
   ]
  },
  {
   "cell_type": "code",
   "execution_count": 14,
   "metadata": {},
   "outputs": [
    {
     "data": {
      "text/html": [
       "<div>\n",
       "<style scoped>\n",
       "    .dataframe tbody tr th:only-of-type {\n",
       "        vertical-align: middle;\n",
       "    }\n",
       "\n",
       "    .dataframe tbody tr th {\n",
       "        vertical-align: top;\n",
       "    }\n",
       "\n",
       "    .dataframe thead th {\n",
       "        text-align: right;\n",
       "    }\n",
       "</style>\n",
       "<table border=\"1\" class=\"dataframe\">\n",
       "  <thead>\n",
       "    <tr style=\"text-align: right;\">\n",
       "      <th></th>\n",
       "      <th>s1</th>\n",
       "      <th>s2</th>\n",
       "      <th>s3</th>\n",
       "      <th>s4</th>\n",
       "      <th>temperature</th>\n",
       "    </tr>\n",
       "  </thead>\n",
       "  <tbody>\n",
       "    <tr>\n",
       "      <th>0</th>\n",
       "      <td>14.858686</td>\n",
       "      <td>16.203555</td>\n",
       "      <td>2.768279</td>\n",
       "      <td>38.068660</td>\n",
       "      <td>23.455634</td>\n",
       "    </tr>\n",
       "    <tr>\n",
       "      <th>1</th>\n",
       "      <td>1.912388</td>\n",
       "      <td>8.830437</td>\n",
       "      <td>12.620198</td>\n",
       "      <td>18.142429</td>\n",
       "      <td>31.397519</td>\n",
       "    </tr>\n",
       "    <tr>\n",
       "      <th>2</th>\n",
       "      <td>247.190276</td>\n",
       "      <td>31.466881</td>\n",
       "      <td>22.731309</td>\n",
       "      <td>50.604681</td>\n",
       "      <td>12.815181</td>\n",
       "    </tr>\n",
       "    <tr>\n",
       "      <th>3</th>\n",
       "      <td>23.079741</td>\n",
       "      <td>6.622915</td>\n",
       "      <td>11.213211</td>\n",
       "      <td>130.738214</td>\n",
       "      <td>12.654930</td>\n",
       "    </tr>\n",
       "    <tr>\n",
       "      <th>4</th>\n",
       "      <td>5.746215</td>\n",
       "      <td>11.082504</td>\n",
       "      <td>19.895661</td>\n",
       "      <td>26.468886</td>\n",
       "      <td>31.566447</td>\n",
       "    </tr>\n",
       "  </tbody>\n",
       "</table>\n",
       "</div>"
      ],
      "text/plain": [
       "           s1         s2         s3          s4  temperature\n",
       "0   14.858686  16.203555   2.768279   38.068660    23.455634\n",
       "1    1.912388   8.830437  12.620198   18.142429    31.397519\n",
       "2  247.190276  31.466881  22.731309   50.604681    12.815181\n",
       "3   23.079741   6.622915  11.213211  130.738214    12.654930\n",
       "4    5.746215  11.082504  19.895661   26.468886    31.566447"
      ]
     },
     "execution_count": 14,
     "metadata": {},
     "output_type": "execute_result"
    }
   ],
   "source": [
    "df.head()"
   ]
  },
  {
   "cell_type": "code",
   "execution_count": 15,
   "metadata": {},
   "outputs": [
    {
     "data": {
      "text/plain": [
       "0      23.455634\n",
       "1      31.397519\n",
       "2      12.815181\n",
       "3      12.654930\n",
       "4      31.566447\n",
       "         ...    \n",
       "95     53.130122\n",
       "96      3.361424\n",
       "97    128.723707\n",
       "98     16.562915\n",
       "99     37.514985\n",
       "Name: temperature, Length: 100, dtype: float64"
      ]
     },
     "execution_count": 15,
     "metadata": {},
     "output_type": "execute_result"
    }
   ],
   "source": [
    "df['temperature']"
   ]
  },
  {
   "cell_type": "code",
   "execution_count": 16,
   "metadata": {},
   "outputs": [
    {
     "data": {
      "text/plain": [
       "pandas.core.series.Series"
      ]
     },
     "execution_count": 16,
     "metadata": {},
     "output_type": "execute_result"
    }
   ],
   "source": [
    "type(df['temperature']) # over all this columns is a ..."
   ]
  },
  {
   "cell_type": "code",
   "execution_count": 17,
   "metadata": {},
   "outputs": [
    {
     "data": {
      "text/plain": [
       "36.499506652015604"
      ]
     },
     "execution_count": 17,
     "metadata": {},
     "output_type": "execute_result"
    }
   ],
   "source": [
    "df['temperature'].mean() # mean temperature"
   ]
  },
  {
   "cell_type": "code",
   "execution_count": 18,
   "metadata": {},
   "outputs": [
    {
     "data": {
      "text/html": [
       "<div>\n",
       "<style scoped>\n",
       "    .dataframe tbody tr th:only-of-type {\n",
       "        vertical-align: middle;\n",
       "    }\n",
       "\n",
       "    .dataframe tbody tr th {\n",
       "        vertical-align: top;\n",
       "    }\n",
       "\n",
       "    .dataframe thead th {\n",
       "        text-align: right;\n",
       "    }\n",
       "</style>\n",
       "<table border=\"1\" class=\"dataframe\">\n",
       "  <thead>\n",
       "    <tr style=\"text-align: right;\">\n",
       "      <th></th>\n",
       "      <th>s1</th>\n",
       "      <th>s2</th>\n",
       "      <th>s3</th>\n",
       "      <th>s4</th>\n",
       "      <th>temperature</th>\n",
       "    </tr>\n",
       "  </thead>\n",
       "  <tbody>\n",
       "    <tr>\n",
       "      <th>count</th>\n",
       "      <td>100.000000</td>\n",
       "      <td>100.000000</td>\n",
       "      <td>100.000000</td>\n",
       "      <td>100.000000</td>\n",
       "      <td>100.000000</td>\n",
       "    </tr>\n",
       "    <tr>\n",
       "      <th>mean</th>\n",
       "      <td>42.186813</td>\n",
       "      <td>30.877882</td>\n",
       "      <td>27.382010</td>\n",
       "      <td>30.958937</td>\n",
       "      <td>36.499507</td>\n",
       "    </tr>\n",
       "    <tr>\n",
       "      <th>std</th>\n",
       "      <td>87.588097</td>\n",
       "      <td>31.785015</td>\n",
       "      <td>29.999723</td>\n",
       "      <td>30.843404</td>\n",
       "      <td>37.653122</td>\n",
       "    </tr>\n",
       "    <tr>\n",
       "      <th>min</th>\n",
       "      <td>1.444260</td>\n",
       "      <td>2.882278</td>\n",
       "      <td>2.144709</td>\n",
       "      <td>1.710378</td>\n",
       "      <td>2.374324</td>\n",
       "    </tr>\n",
       "    <tr>\n",
       "      <th>25%</th>\n",
       "      <td>11.858597</td>\n",
       "      <td>12.002544</td>\n",
       "      <td>9.840970</td>\n",
       "      <td>11.056034</td>\n",
       "      <td>13.535104</td>\n",
       "    </tr>\n",
       "    <tr>\n",
       "      <th>50%</th>\n",
       "      <td>21.893145</td>\n",
       "      <td>20.137385</td>\n",
       "      <td>17.758167</td>\n",
       "      <td>19.042755</td>\n",
       "      <td>24.930237</td>\n",
       "    </tr>\n",
       "    <tr>\n",
       "      <th>75%</th>\n",
       "      <td>39.374881</td>\n",
       "      <td>35.666256</td>\n",
       "      <td>30.786792</td>\n",
       "      <td>40.240029</td>\n",
       "      <td>50.126190</td>\n",
       "    </tr>\n",
       "    <tr>\n",
       "      <th>max</th>\n",
       "      <td>805.101422</td>\n",
       "      <td>187.575512</td>\n",
       "      <td>172.355722</td>\n",
       "      <td>167.915041</td>\n",
       "      <td>268.255078</td>\n",
       "    </tr>\n",
       "  </tbody>\n",
       "</table>\n",
       "</div>"
      ],
      "text/plain": [
       "               s1          s2          s3          s4  temperature\n",
       "count  100.000000  100.000000  100.000000  100.000000   100.000000\n",
       "mean    42.186813   30.877882   27.382010   30.958937    36.499507\n",
       "std     87.588097   31.785015   29.999723   30.843404    37.653122\n",
       "min      1.444260    2.882278    2.144709    1.710378     2.374324\n",
       "25%     11.858597   12.002544    9.840970   11.056034    13.535104\n",
       "50%     21.893145   20.137385   17.758167   19.042755    24.930237\n",
       "75%     39.374881   35.666256   30.786792   40.240029    50.126190\n",
       "max    805.101422  187.575512  172.355722  167.915041   268.255078"
      ]
     },
     "execution_count": 18,
     "metadata": {},
     "output_type": "execute_result"
    }
   ],
   "source": [
    "df.describe() # like summary(data) in R"
   ]
  },
  {
   "cell_type": "code",
   "execution_count": 19,
   "metadata": {},
   "outputs": [
    {
     "data": {
      "text/plain": [
       "0      True\n",
       "1      True\n",
       "2      True\n",
       "3      True\n",
       "4      True\n",
       "      ...  \n",
       "95    False\n",
       "96     True\n",
       "97    False\n",
       "98     True\n",
       "99    False\n",
       "Name: temperature, Length: 100, dtype: bool"
      ]
     },
     "execution_count": 19,
     "metadata": {},
     "output_type": "execute_result"
    }
   ],
   "source": [
    "df['temperature'] < df['temperature'].mean() # produce a series of boolean values (T/F)"
   ]
  },
  {
   "cell_type": "markdown",
   "metadata": {},
   "source": [
    "## Subset a dataframe\n",
    "\n",
    "1. First, create a series of boolean values to index into the source dataframe,\n",
    "\n",
    "Example:\n",
    "```\n",
    "temp_lt_mean = df['temperature'] < df['temperature'].mean()\n",
    "```\n",
    "\n",
    "2. Apply the series of boolean values to the source dataframe to subset the source dataframe. \n",
    "\n",
    "Example:\n",
    "```\n",
    "df_temp_lt_mean = df[temp_lt_mean]\n",
    "```"
   ]
  },
  {
   "cell_type": "code",
   "execution_count": 23,
   "metadata": {},
   "outputs": [],
   "source": [
    "temp_lt_mean = df['temperature'] < df['temperature'].mean()"
   ]
  },
  {
   "cell_type": "code",
   "execution_count": 28,
   "metadata": {},
   "outputs": [],
   "source": [
    "df_temp_lt_mean = df[temp_lt_mean] # create a subset of data where temp_lt_mean == T"
   ]
  },
  {
   "cell_type": "code",
   "execution_count": 31,
   "metadata": {},
   "outputs": [
    {
     "data": {
      "text/html": [
       "<div>\n",
       "<style scoped>\n",
       "    .dataframe tbody tr th:only-of-type {\n",
       "        vertical-align: middle;\n",
       "    }\n",
       "\n",
       "    .dataframe tbody tr th {\n",
       "        vertical-align: top;\n",
       "    }\n",
       "\n",
       "    .dataframe thead th {\n",
       "        text-align: right;\n",
       "    }\n",
       "</style>\n",
       "<table border=\"1\" class=\"dataframe\">\n",
       "  <thead>\n",
       "    <tr style=\"text-align: right;\">\n",
       "      <th></th>\n",
       "      <th>s1</th>\n",
       "      <th>s2</th>\n",
       "      <th>s3</th>\n",
       "      <th>s4</th>\n",
       "      <th>temperature</th>\n",
       "    </tr>\n",
       "  </thead>\n",
       "  <tbody>\n",
       "    <tr>\n",
       "      <th>0</th>\n",
       "      <td>14.858686</td>\n",
       "      <td>16.203555</td>\n",
       "      <td>2.768279</td>\n",
       "      <td>38.068660</td>\n",
       "      <td>23.455634</td>\n",
       "    </tr>\n",
       "    <tr>\n",
       "      <th>1</th>\n",
       "      <td>1.912388</td>\n",
       "      <td>8.830437</td>\n",
       "      <td>12.620198</td>\n",
       "      <td>18.142429</td>\n",
       "      <td>31.397519</td>\n",
       "    </tr>\n",
       "    <tr>\n",
       "      <th>2</th>\n",
       "      <td>247.190276</td>\n",
       "      <td>31.466881</td>\n",
       "      <td>22.731309</td>\n",
       "      <td>50.604681</td>\n",
       "      <td>12.815181</td>\n",
       "    </tr>\n",
       "    <tr>\n",
       "      <th>3</th>\n",
       "      <td>23.079741</td>\n",
       "      <td>6.622915</td>\n",
       "      <td>11.213211</td>\n",
       "      <td>130.738214</td>\n",
       "      <td>12.654930</td>\n",
       "    </tr>\n",
       "    <tr>\n",
       "      <th>4</th>\n",
       "      <td>5.746215</td>\n",
       "      <td>11.082504</td>\n",
       "      <td>19.895661</td>\n",
       "      <td>26.468886</td>\n",
       "      <td>31.566447</td>\n",
       "    </tr>\n",
       "  </tbody>\n",
       "</table>\n",
       "</div>"
      ],
      "text/plain": [
       "           s1         s2         s3          s4  temperature\n",
       "0   14.858686  16.203555   2.768279   38.068660    23.455634\n",
       "1    1.912388   8.830437  12.620198   18.142429    31.397519\n",
       "2  247.190276  31.466881  22.731309   50.604681    12.815181\n",
       "3   23.079741   6.622915  11.213211  130.738214    12.654930\n",
       "4    5.746215  11.082504  19.895661   26.468886    31.566447"
      ]
     },
     "execution_count": 31,
     "metadata": {},
     "output_type": "execute_result"
    }
   ],
   "source": [
    "df_temp_lt_mean.head()"
   ]
  },
  {
   "cell_type": "code",
   "execution_count": 34,
   "metadata": {},
   "outputs": [
    {
     "data": {
      "image/png": "[encoded data removed]",
      "text/plain": [
       "<Figure size 432x288 with 1 Axes>"
      ]
     },
     "metadata": {
      "needs_background": "light"
     },
     "output_type": "display_data"
    }
   ],
   "source": [
    "df.plot()\n",
    "plt.show()"
   ]
  },
  {
   "cell_type": "code",
   "execution_count": 32,
   "metadata": {},
   "outputs": [],
   "source": [
    "df_temp_lt_mean.to_csv('../temp_lt_mean.csv') # export to a csv"
   ]
  },
  {
   "cell_type": "code",
   "execution_count": 36,
   "metadata": {},
   "outputs": [],
   "source": [
    "df_temp_lt_mean.to_csv('../temp_lt_mean.csv', index=False)"
   ]
  },
  {
   "cell_type": "code",
   "execution_count": 38,
   "metadata": {},
   "outputs": [
    {
     "data": {
      "text/html": [
       "<div>\n",
       "<style scoped>\n",
       "    .dataframe tbody tr th:only-of-type {\n",
       "        vertical-align: middle;\n",
       "    }\n",
       "\n",
       "    .dataframe tbody tr th {\n",
       "        vertical-align: top;\n",
       "    }\n",
       "\n",
       "    .dataframe thead th {\n",
       "        text-align: right;\n",
       "    }\n",
       "</style>\n",
       "<table border=\"1\" class=\"dataframe\">\n",
       "  <thead>\n",
       "    <tr style=\"text-align: right;\">\n",
       "      <th></th>\n",
       "      <th>s1</th>\n",
       "      <th>s2</th>\n",
       "      <th>s3</th>\n",
       "      <th>s4</th>\n",
       "      <th>temperature</th>\n",
       "      <th>temp_minus_mean</th>\n",
       "    </tr>\n",
       "  </thead>\n",
       "  <tbody>\n",
       "    <tr>\n",
       "      <th>0</th>\n",
       "      <td>14.858686</td>\n",
       "      <td>16.203555</td>\n",
       "      <td>2.768279</td>\n",
       "      <td>38.068660</td>\n",
       "      <td>23.455634</td>\n",
       "      <td>-13.043873</td>\n",
       "    </tr>\n",
       "    <tr>\n",
       "      <th>1</th>\n",
       "      <td>1.912388</td>\n",
       "      <td>8.830437</td>\n",
       "      <td>12.620198</td>\n",
       "      <td>18.142429</td>\n",
       "      <td>31.397519</td>\n",
       "      <td>-5.101988</td>\n",
       "    </tr>\n",
       "    <tr>\n",
       "      <th>2</th>\n",
       "      <td>247.190276</td>\n",
       "      <td>31.466881</td>\n",
       "      <td>22.731309</td>\n",
       "      <td>50.604681</td>\n",
       "      <td>12.815181</td>\n",
       "      <td>-23.684326</td>\n",
       "    </tr>\n",
       "    <tr>\n",
       "      <th>3</th>\n",
       "      <td>23.079741</td>\n",
       "      <td>6.622915</td>\n",
       "      <td>11.213211</td>\n",
       "      <td>130.738214</td>\n",
       "      <td>12.654930</td>\n",
       "      <td>-23.844577</td>\n",
       "    </tr>\n",
       "    <tr>\n",
       "      <th>4</th>\n",
       "      <td>5.746215</td>\n",
       "      <td>11.082504</td>\n",
       "      <td>19.895661</td>\n",
       "      <td>26.468886</td>\n",
       "      <td>31.566447</td>\n",
       "      <td>-4.933060</td>\n",
       "    </tr>\n",
       "  </tbody>\n",
       "</table>\n",
       "</div>"
      ],
      "text/plain": [
       "           s1         s2         s3          s4  temperature  temp_minus_mean\n",
       "0   14.858686  16.203555   2.768279   38.068660    23.455634       -13.043873\n",
       "1    1.912388   8.830437  12.620198   18.142429    31.397519        -5.101988\n",
       "2  247.190276  31.466881  22.731309   50.604681    12.815181       -23.684326\n",
       "3   23.079741   6.622915  11.213211  130.738214    12.654930       -23.844577\n",
       "4    5.746215  11.082504  19.895661   26.468886    31.566447        -4.933060"
      ]
     },
     "execution_count": 38,
     "metadata": {},
     "output_type": "execute_result"
    }
   ],
   "source": [
    "# create a new variable\n",
    "df['temp_minus_mean'] = df['temperature'] - df['temperature'].mean()\n",
    "df.head()"
   ]
  },
  {
   "cell_type": "code",
   "execution_count": 39,
   "metadata": {},
   "outputs": [],
   "source": [
    "condition_wont_work = df['temperature'] - df['temperature'].mean()"
   ]
  },
  {
   "cell_type": "code",
   "execution_count": 40,
   "metadata": {},
   "outputs": [
    {
     "data": {
      "text/plain": [
       "0    -13.043873\n",
       "1     -5.101988\n",
       "2    -23.684326\n",
       "3    -23.844577\n",
       "4     -4.933060\n",
       "        ...    \n",
       "95    16.630615\n",
       "96   -33.138082\n",
       "97    92.224200\n",
       "98   -19.936591\n",
       "99     1.015478\n",
       "Name: temperature, Length: 100, dtype: float64"
      ]
     },
     "execution_count": 40,
     "metadata": {},
     "output_type": "execute_result"
    }
   ],
   "source": [
    "condition_wont_work"
   ]
  },
  {
   "cell_type": "code",
   "execution_count": 41,
   "metadata": {},
   "outputs": [
    {
     "ename": "KeyError",
     "evalue": "\"None of [Float64Index([-13.043872651881166,  -5.101987786394389, -23.684326041243377,\\n              -23.844576952455952,  -4.933059719132064,   7.007433940216778,\\n                18.06204785833824,  26.489483740518963,  -25.37277177819646,\\n                9.994215611626643,  -30.83853947122052,   7.978826186578047,\\n              -27.489177486333823,  -6.564506031166676, -22.875785002609643,\\n              -0.5851261382822912, -18.616693300550896,   42.87180171056793,\\n               -18.19429095829586,   5.939960366818092,  19.259508458452743,\\n                24.19515074545844,  -26.05680002971368, -22.939660356819545,\\n              -12.135901546531773, -30.670058575188364,  29.182474727655595,\\n               -8.251871993077536,   51.45774158559568, -21.555063988520168,\\n              -10.607355007669248, -19.091324938045858,  18.428706791254918,\\n               -5.774358996504276, -22.944995237773178, -24.752275720525304,\\n               36.628806731555905, -25.910328385499906, -18.558774343153797,\\n               231.75557123008036, -26.416504895758287,  -33.12275290476442,\\n              -15.989780596861664,   29.66564466664658, -0.8807660695409325,\\n               43.458737331364496, -15.751938090546364,  -23.02262662568387,\\n              -28.105533252189154, -18.078053725981807,  12.625372230252871,\\n              -11.002638477699708, -0.2680131585632779, -22.242951849661008,\\n               32.473081322681686, -34.125182627718395,  23.014908900179094,\\n              -27.457375617492044,   -25.8087205777316,  -9.296419093788487,\\n              -22.197834727815803, -18.482177900363762,  -21.55680814507705,\\n               -29.79904207186471,  -7.742958823730827, -15.112620224651288,\\n                74.63425118254477,  -5.189609844249542,   34.91714758274883,\\n              -22.450961305106787,    40.4946977606133, -15.560652909175257,\\n              -33.948028760385355,  -25.62767872871178,   75.42457846675774,\\n              -15.928346501455302, -18.696980611906554,   33.68559207869588,\\n               -30.22473302241452, -28.141513613089046,  36.609672935103085,\\n                 57.0705213754995,  -20.80241590243285,   22.90596516004768,\\n              -32.155116348991584, -29.856923457577548, -2.9770424701874916,\\n              -3.5685547892823806,  3.1336564474088604, -10.025855964995603,\\n               116.25714367379561,  -3.978693955198942, -20.523155610893106,\\n               1.4808621527844323, -27.388737483256623,  16.630615089929947,\\n               -33.13808218261691,   92.22420029001611,  -19.93659137913056,\\n               1.0154784035387436],\\n             dtype='float64')] are in the [columns]\"",
     "output_type": "error",
     "traceback": [
      "\u001b[1;31m---------------------------------------------------------------------------\u001b[0m",
      "\u001b[1;31mKeyError\u001b[0m                                  Traceback (most recent call last)",
      "\u001b[1;32m<ipython-input-41-698feb5cf0cb>\u001b[0m in \u001b[0;36m<module>\u001b[1;34m\u001b[0m\n\u001b[1;32m----> 1\u001b[1;33m \u001b[0mdf\u001b[0m\u001b[1;33m[\u001b[0m\u001b[0mcondition_wont_work\u001b[0m\u001b[1;33m]\u001b[0m\u001b[1;33m\u001b[0m\u001b[1;33m\u001b[0m\u001b[0m\n\u001b[0m",
      "\u001b[1;32m~\\Anaconda3\\envs\\python102\\lib\\site-packages\\pandas\\core\\frame.py\u001b[0m in \u001b[0;36m__getitem__\u001b[1;34m(self, key)\u001b[0m\n\u001b[0;32m   2999\u001b[0m             \u001b[1;32mif\u001b[0m \u001b[0mis_iterator\u001b[0m\u001b[1;33m(\u001b[0m\u001b[0mkey\u001b[0m\u001b[1;33m)\u001b[0m\u001b[1;33m:\u001b[0m\u001b[1;33m\u001b[0m\u001b[1;33m\u001b[0m\u001b[0m\n\u001b[0;32m   3000\u001b[0m                 \u001b[0mkey\u001b[0m \u001b[1;33m=\u001b[0m \u001b[0mlist\u001b[0m\u001b[1;33m(\u001b[0m\u001b[0mkey\u001b[0m\u001b[1;33m)\u001b[0m\u001b[1;33m\u001b[0m\u001b[1;33m\u001b[0m\u001b[0m\n\u001b[1;32m-> 3001\u001b[1;33m             \u001b[0mindexer\u001b[0m \u001b[1;33m=\u001b[0m \u001b[0mself\u001b[0m\u001b[1;33m.\u001b[0m\u001b[0mloc\u001b[0m\u001b[1;33m.\u001b[0m\u001b[0m_convert_to_indexer\u001b[0m\u001b[1;33m(\u001b[0m\u001b[0mkey\u001b[0m\u001b[1;33m,\u001b[0m \u001b[0maxis\u001b[0m\u001b[1;33m=\u001b[0m\u001b[1;36m1\u001b[0m\u001b[1;33m,\u001b[0m \u001b[0mraise_missing\u001b[0m\u001b[1;33m=\u001b[0m\u001b[1;32mTrue\u001b[0m\u001b[1;33m)\u001b[0m\u001b[1;33m\u001b[0m\u001b[1;33m\u001b[0m\u001b[0m\n\u001b[0m\u001b[0;32m   3002\u001b[0m \u001b[1;33m\u001b[0m\u001b[0m\n\u001b[0;32m   3003\u001b[0m         \u001b[1;31m# take() does not accept boolean indexers\u001b[0m\u001b[1;33m\u001b[0m\u001b[1;33m\u001b[0m\u001b[1;33m\u001b[0m\u001b[0m\n",
      "\u001b[1;32m~\\Anaconda3\\envs\\python102\\lib\\site-packages\\pandas\\core\\indexing.py\u001b[0m in \u001b[0;36m_convert_to_indexer\u001b[1;34m(self, obj, axis, is_setter, raise_missing)\u001b[0m\n\u001b[0;32m   1283\u001b[0m                 \u001b[1;31m# When setting, missing keys are not allowed, even with .loc:\u001b[0m\u001b[1;33m\u001b[0m\u001b[1;33m\u001b[0m\u001b[1;33m\u001b[0m\u001b[0m\n\u001b[0;32m   1284\u001b[0m                 \u001b[0mkwargs\u001b[0m \u001b[1;33m=\u001b[0m \u001b[1;33m{\u001b[0m\u001b[1;34m\"raise_missing\"\u001b[0m\u001b[1;33m:\u001b[0m \u001b[1;32mTrue\u001b[0m \u001b[1;32mif\u001b[0m \u001b[0mis_setter\u001b[0m \u001b[1;32melse\u001b[0m \u001b[0mraise_missing\u001b[0m\u001b[1;33m}\u001b[0m\u001b[1;33m\u001b[0m\u001b[1;33m\u001b[0m\u001b[0m\n\u001b[1;32m-> 1285\u001b[1;33m                 \u001b[1;32mreturn\u001b[0m \u001b[0mself\u001b[0m\u001b[1;33m.\u001b[0m\u001b[0m_get_listlike_indexer\u001b[0m\u001b[1;33m(\u001b[0m\u001b[0mobj\u001b[0m\u001b[1;33m,\u001b[0m \u001b[0maxis\u001b[0m\u001b[1;33m,\u001b[0m \u001b[1;33m**\u001b[0m\u001b[0mkwargs\u001b[0m\u001b[1;33m)\u001b[0m\u001b[1;33m[\u001b[0m\u001b[1;36m1\u001b[0m\u001b[1;33m]\u001b[0m\u001b[1;33m\u001b[0m\u001b[1;33m\u001b[0m\u001b[0m\n\u001b[0m\u001b[0;32m   1286\u001b[0m         \u001b[1;32melse\u001b[0m\u001b[1;33m:\u001b[0m\u001b[1;33m\u001b[0m\u001b[1;33m\u001b[0m\u001b[0m\n\u001b[0;32m   1287\u001b[0m             \u001b[1;32mtry\u001b[0m\u001b[1;33m:\u001b[0m\u001b[1;33m\u001b[0m\u001b[1;33m\u001b[0m\u001b[0m\n",
      "\u001b[1;32m~\\Anaconda3\\envs\\python102\\lib\\site-packages\\pandas\\core\\indexing.py\u001b[0m in \u001b[0;36m_get_listlike_indexer\u001b[1;34m(self, key, axis, raise_missing)\u001b[0m\n\u001b[0;32m   1090\u001b[0m \u001b[1;33m\u001b[0m\u001b[0m\n\u001b[0;32m   1091\u001b[0m         self._validate_read_indexer(\n\u001b[1;32m-> 1092\u001b[1;33m             \u001b[0mkeyarr\u001b[0m\u001b[1;33m,\u001b[0m \u001b[0mindexer\u001b[0m\u001b[1;33m,\u001b[0m \u001b[0mo\u001b[0m\u001b[1;33m.\u001b[0m\u001b[0m_get_axis_number\u001b[0m\u001b[1;33m(\u001b[0m\u001b[0maxis\u001b[0m\u001b[1;33m)\u001b[0m\u001b[1;33m,\u001b[0m \u001b[0mraise_missing\u001b[0m\u001b[1;33m=\u001b[0m\u001b[0mraise_missing\u001b[0m\u001b[1;33m\u001b[0m\u001b[1;33m\u001b[0m\u001b[0m\n\u001b[0m\u001b[0;32m   1093\u001b[0m         )\n\u001b[0;32m   1094\u001b[0m         \u001b[1;32mreturn\u001b[0m \u001b[0mkeyarr\u001b[0m\u001b[1;33m,\u001b[0m \u001b[0mindexer\u001b[0m\u001b[1;33m\u001b[0m\u001b[1;33m\u001b[0m\u001b[0m\n",
      "\u001b[1;32m~\\Anaconda3\\envs\\python102\\lib\\site-packages\\pandas\\core\\indexing.py\u001b[0m in \u001b[0;36m_validate_read_indexer\u001b[1;34m(self, key, indexer, axis, raise_missing)\u001b[0m\n\u001b[0;32m   1175\u001b[0m                 raise KeyError(\n\u001b[0;32m   1176\u001b[0m                     \"None of [{key}] are in the [{axis}]\".format(\n\u001b[1;32m-> 1177\u001b[1;33m                         \u001b[0mkey\u001b[0m\u001b[1;33m=\u001b[0m\u001b[0mkey\u001b[0m\u001b[1;33m,\u001b[0m \u001b[0maxis\u001b[0m\u001b[1;33m=\u001b[0m\u001b[0mself\u001b[0m\u001b[1;33m.\u001b[0m\u001b[0mobj\u001b[0m\u001b[1;33m.\u001b[0m\u001b[0m_get_axis_name\u001b[0m\u001b[1;33m(\u001b[0m\u001b[0maxis\u001b[0m\u001b[1;33m)\u001b[0m\u001b[1;33m\u001b[0m\u001b[1;33m\u001b[0m\u001b[0m\n\u001b[0m\u001b[0;32m   1178\u001b[0m                     )\n\u001b[0;32m   1179\u001b[0m                 )\n",
      "\u001b[1;31mKeyError\u001b[0m: \"None of [Float64Index([-13.043872651881166,  -5.101987786394389, -23.684326041243377,\\n              -23.844576952455952,  -4.933059719132064,   7.007433940216778,\\n                18.06204785833824,  26.489483740518963,  -25.37277177819646,\\n                9.994215611626643,  -30.83853947122052,   7.978826186578047,\\n              -27.489177486333823,  -6.564506031166676, -22.875785002609643,\\n              -0.5851261382822912, -18.616693300550896,   42.87180171056793,\\n               -18.19429095829586,   5.939960366818092,  19.259508458452743,\\n                24.19515074545844,  -26.05680002971368, -22.939660356819545,\\n              -12.135901546531773, -30.670058575188364,  29.182474727655595,\\n               -8.251871993077536,   51.45774158559568, -21.555063988520168,\\n              -10.607355007669248, -19.091324938045858,  18.428706791254918,\\n               -5.774358996504276, -22.944995237773178, -24.752275720525304,\\n               36.628806731555905, -25.910328385499906, -18.558774343153797,\\n               231.75557123008036, -26.416504895758287,  -33.12275290476442,\\n              -15.989780596861664,   29.66564466664658, -0.8807660695409325,\\n               43.458737331364496, -15.751938090546364,  -23.02262662568387,\\n              -28.105533252189154, -18.078053725981807,  12.625372230252871,\\n              -11.002638477699708, -0.2680131585632779, -22.242951849661008,\\n               32.473081322681686, -34.125182627718395,  23.014908900179094,\\n              -27.457375617492044,   -25.8087205777316,  -9.296419093788487,\\n              -22.197834727815803, -18.482177900363762,  -21.55680814507705,\\n               -29.79904207186471,  -7.742958823730827, -15.112620224651288,\\n                74.63425118254477,  -5.189609844249542,   34.91714758274883,\\n              -22.450961305106787,    40.4946977606133, -15.560652909175257,\\n              -33.948028760385355,  -25.62767872871178,   75.42457846675774,\\n              -15.928346501455302, -18.696980611906554,   33.68559207869588,\\n               -30.22473302241452, -28.141513613089046,  36.609672935103085,\\n                 57.0705213754995,  -20.80241590243285,   22.90596516004768,\\n              -32.155116348991584, -29.856923457577548, -2.9770424701874916,\\n              -3.5685547892823806,  3.1336564474088604, -10.025855964995603,\\n               116.25714367379561,  -3.978693955198942, -20.523155610893106,\\n               1.4808621527844323, -27.388737483256623,  16.630615089929947,\\n               -33.13808218261691,   92.22420029001611,  -19.93659137913056,\\n               1.0154784035387436],\\n             dtype='float64')] are in the [columns]\""
     ]
    }
   ],
   "source": [
    "df[condition_wont_work] # the values above are not boolean"
   ]
  },
  {
   "cell_type": "code",
   "execution_count": 43,
   "metadata": {},
   "outputs": [
    {
     "data": {
      "text/plain": [
       "0     False\n",
       "1     False\n",
       "2      True\n",
       "3     False\n",
       "4     False\n",
       "      ...  \n",
       "95    False\n",
       "96    False\n",
       "97    False\n",
       "98    False\n",
       "99     True\n",
       "Name: s1, Length: 100, dtype: bool"
      ]
     },
     "execution_count": 43,
     "metadata": {},
     "output_type": "execute_result"
    }
   ],
   "source": [
    "avg_temp = df['temperature'].mean()\n",
    "avg_s1 = df['s1'].mean()\n",
    "s1_gt_mean = df['s1'] > avg_s1 # new boolean series\n",
    "s1_gt_mean"
   ]
  },
  {
   "cell_type": "code",
   "execution_count": 45,
   "metadata": {},
   "outputs": [
    {
     "data": {
      "text/plain": [
       "24"
      ]
     },
     "execution_count": 45,
     "metadata": {},
     "output_type": "execute_result"
    }
   ],
   "source": [
    "s1_gt_mean.sum() # how many Trues (rows) are we going to get"
   ]
  },
  {
   "cell_type": "markdown",
   "metadata": {},
   "source": [
    "## Create a compound condition\n",
    "\n",
    "Series containing boolean values (condition) can be combined using & (and), | (or).\n",
    "\n",
    "& - For every True in *both* source conditions, the resulting condition is True.\n",
    "\n",
    "| - For every True in *at least one* source conditions, the resulting condition is True."
   ]
  },
  {
   "cell_type": "code",
   "execution_count": 48,
   "metadata": {},
   "outputs": [
    {
     "data": {
      "text/plain": [
       "0     False\n",
       "1     False\n",
       "2      True\n",
       "3     False\n",
       "4     False\n",
       "      ...  \n",
       "95    False\n",
       "96    False\n",
       "97    False\n",
       "98    False\n",
       "99    False\n",
       "Length: 100, dtype: bool"
      ]
     },
     "execution_count": 48,
     "metadata": {},
     "output_type": "execute_result"
    }
   ],
   "source": [
    "subset_condition = temp_lt_mean & s1_gt_mean\n",
    "subset_condition"
   ]
  },
  {
   "cell_type": "code",
   "execution_count": 50,
   "metadata": {},
   "outputs": [
    {
     "data": {
      "text/plain": [
       "17"
      ]
     },
     "execution_count": 50,
     "metadata": {},
     "output_type": "execute_result"
    }
   ],
   "source": [
    "subset_condition.sum()"
   ]
  },
  {
   "cell_type": "code",
   "execution_count": 51,
   "metadata": {},
   "outputs": [
    {
     "data": {
      "text/html": [
       "<div>\n",
       "<style scoped>\n",
       "    .dataframe tbody tr th:only-of-type {\n",
       "        vertical-align: middle;\n",
       "    }\n",
       "\n",
       "    .dataframe tbody tr th {\n",
       "        vertical-align: top;\n",
       "    }\n",
       "\n",
       "    .dataframe thead th {\n",
       "        text-align: right;\n",
       "    }\n",
       "</style>\n",
       "<table border=\"1\" class=\"dataframe\">\n",
       "  <thead>\n",
       "    <tr style=\"text-align: right;\">\n",
       "      <th></th>\n",
       "      <th>s1</th>\n",
       "      <th>s2</th>\n",
       "      <th>s3</th>\n",
       "      <th>s4</th>\n",
       "      <th>temperature</th>\n",
       "      <th>temp_minus_mean</th>\n",
       "    </tr>\n",
       "  </thead>\n",
       "  <tbody>\n",
       "    <tr>\n",
       "      <th>2</th>\n",
       "      <td>247.190276</td>\n",
       "      <td>31.466881</td>\n",
       "      <td>22.731309</td>\n",
       "      <td>50.604681</td>\n",
       "      <td>12.815181</td>\n",
       "      <td>-23.684326</td>\n",
       "    </tr>\n",
       "    <tr>\n",
       "      <th>23</th>\n",
       "      <td>60.900785</td>\n",
       "      <td>73.380943</td>\n",
       "      <td>4.988085</td>\n",
       "      <td>16.648472</td>\n",
       "      <td>13.559846</td>\n",
       "      <td>-22.939660</td>\n",
       "    </tr>\n",
       "    <tr>\n",
       "      <th>27</th>\n",
       "      <td>82.947227</td>\n",
       "      <td>30.681653</td>\n",
       "      <td>17.766184</td>\n",
       "      <td>69.770709</td>\n",
       "      <td>28.247635</td>\n",
       "      <td>-8.251872</td>\n",
       "    </tr>\n",
       "    <tr>\n",
       "      <th>34</th>\n",
       "      <td>134.940950</td>\n",
       "      <td>10.728978</td>\n",
       "      <td>18.329528</td>\n",
       "      <td>45.804572</td>\n",
       "      <td>13.554511</td>\n",
       "      <td>-22.944995</td>\n",
       "    </tr>\n",
       "    <tr>\n",
       "      <th>40</th>\n",
       "      <td>132.595694</td>\n",
       "      <td>11.606707</td>\n",
       "      <td>9.001086</td>\n",
       "      <td>56.255197</td>\n",
       "      <td>10.083002</td>\n",
       "      <td>-26.416505</td>\n",
       "    </tr>\n",
       "    <tr>\n",
       "      <th>44</th>\n",
       "      <td>73.355761</td>\n",
       "      <td>49.734902</td>\n",
       "      <td>6.241058</td>\n",
       "      <td>125.683549</td>\n",
       "      <td>35.618741</td>\n",
       "      <td>-0.880766</td>\n",
       "    </tr>\n",
       "    <tr>\n",
       "      <th>53</th>\n",
       "      <td>47.927642</td>\n",
       "      <td>28.476352</td>\n",
       "      <td>14.697481</td>\n",
       "      <td>23.054690</td>\n",
       "      <td>14.256555</td>\n",
       "      <td>-22.242952</td>\n",
       "    </tr>\n",
       "    <tr>\n",
       "      <th>57</th>\n",
       "      <td>48.120652</td>\n",
       "      <td>102.362892</td>\n",
       "      <td>28.881156</td>\n",
       "      <td>40.085028</td>\n",
       "      <td>9.042131</td>\n",
       "      <td>-27.457376</td>\n",
       "    </tr>\n",
       "    <tr>\n",
       "      <th>58</th>\n",
       "      <td>67.783131</td>\n",
       "      <td>8.237230</td>\n",
       "      <td>14.677428</td>\n",
       "      <td>68.090720</td>\n",
       "      <td>10.690786</td>\n",
       "      <td>-25.808721</td>\n",
       "    </tr>\n",
       "    <tr>\n",
       "      <th>60</th>\n",
       "      <td>232.290391</td>\n",
       "      <td>21.361018</td>\n",
       "      <td>21.250177</td>\n",
       "      <td>5.687792</td>\n",
       "      <td>14.301672</td>\n",
       "      <td>-22.197835</td>\n",
       "    </tr>\n",
       "    <tr>\n",
       "      <th>63</th>\n",
       "      <td>98.163424</td>\n",
       "      <td>53.677198</td>\n",
       "      <td>72.376620</td>\n",
       "      <td>3.954225</td>\n",
       "      <td>6.700465</td>\n",
       "      <td>-29.799042</td>\n",
       "    </tr>\n",
       "    <tr>\n",
       "      <th>64</th>\n",
       "      <td>58.866204</td>\n",
       "      <td>36.168079</td>\n",
       "      <td>77.436933</td>\n",
       "      <td>16.490484</td>\n",
       "      <td>28.756548</td>\n",
       "      <td>-7.742959</td>\n",
       "    </tr>\n",
       "    <tr>\n",
       "      <th>67</th>\n",
       "      <td>125.774884</td>\n",
       "      <td>16.520816</td>\n",
       "      <td>3.967851</td>\n",
       "      <td>9.432977</td>\n",
       "      <td>31.309897</td>\n",
       "      <td>-5.189610</td>\n",
       "    </tr>\n",
       "    <tr>\n",
       "      <th>71</th>\n",
       "      <td>81.553639</td>\n",
       "      <td>37.735391</td>\n",
       "      <td>85.572239</td>\n",
       "      <td>17.806511</td>\n",
       "      <td>20.938854</td>\n",
       "      <td>-15.560653</td>\n",
       "    </tr>\n",
       "    <tr>\n",
       "      <th>78</th>\n",
       "      <td>74.122689</td>\n",
       "      <td>15.269713</td>\n",
       "      <td>15.635714</td>\n",
       "      <td>25.924563</td>\n",
       "      <td>6.274774</td>\n",
       "      <td>-30.224733</td>\n",
       "    </tr>\n",
       "    <tr>\n",
       "      <th>84</th>\n",
       "      <td>62.547888</td>\n",
       "      <td>16.998605</td>\n",
       "      <td>9.680373</td>\n",
       "      <td>20.222496</td>\n",
       "      <td>4.344390</td>\n",
       "      <td>-32.155116</td>\n",
       "    </tr>\n",
       "    <tr>\n",
       "      <th>91</th>\n",
       "      <td>56.849071</td>\n",
       "      <td>17.140160</td>\n",
       "      <td>21.701204</td>\n",
       "      <td>65.972838</td>\n",
       "      <td>32.520813</td>\n",
       "      <td>-3.978694</td>\n",
       "    </tr>\n",
       "  </tbody>\n",
       "</table>\n",
       "</div>"
      ],
      "text/plain": [
       "            s1          s2         s3          s4  temperature  \\\n",
       "2   247.190276   31.466881  22.731309   50.604681    12.815181   \n",
       "23   60.900785   73.380943   4.988085   16.648472    13.559846   \n",
       "27   82.947227   30.681653  17.766184   69.770709    28.247635   \n",
       "34  134.940950   10.728978  18.329528   45.804572    13.554511   \n",
       "40  132.595694   11.606707   9.001086   56.255197    10.083002   \n",
       "44   73.355761   49.734902   6.241058  125.683549    35.618741   \n",
       "53   47.927642   28.476352  14.697481   23.054690    14.256555   \n",
       "57   48.120652  102.362892  28.881156   40.085028     9.042131   \n",
       "58   67.783131    8.237230  14.677428   68.090720    10.690786   \n",
       "60  232.290391   21.361018  21.250177    5.687792    14.301672   \n",
       "63   98.163424   53.677198  72.376620    3.954225     6.700465   \n",
       "64   58.866204   36.168079  77.436933   16.490484    28.756548   \n",
       "67  125.774884   16.520816   3.967851    9.432977    31.309897   \n",
       "71   81.553639   37.735391  85.572239   17.806511    20.938854   \n",
       "78   74.122689   15.269713  15.635714   25.924563     6.274774   \n",
       "84   62.547888   16.998605   9.680373   20.222496     4.344390   \n",
       "91   56.849071   17.140160  21.701204   65.972838    32.520813   \n",
       "\n",
       "    temp_minus_mean  \n",
       "2        -23.684326  \n",
       "23       -22.939660  \n",
       "27        -8.251872  \n",
       "34       -22.944995  \n",
       "40       -26.416505  \n",
       "44        -0.880766  \n",
       "53       -22.242952  \n",
       "57       -27.457376  \n",
       "58       -25.808721  \n",
       "60       -22.197835  \n",
       "63       -29.799042  \n",
       "64        -7.742959  \n",
       "67        -5.189610  \n",
       "71       -15.560653  \n",
       "78       -30.224733  \n",
       "84       -32.155116  \n",
       "91        -3.978694  "
      ]
     },
     "execution_count": 51,
     "metadata": {},
     "output_type": "execute_result"
    }
   ],
   "source": [
    "df[subset_condition]"
   ]
  },
  {
   "cell_type": "code",
   "execution_count": 52,
   "metadata": {},
   "outputs": [
    {
     "data": {
      "text/plain": [
       "RangeIndex(start=0, stop=100, step=1)"
      ]
     },
     "execution_count": 52,
     "metadata": {},
     "output_type": "execute_result"
    }
   ],
   "source": [
    "df.index"
   ]
  },
  {
   "cell_type": "code",
   "execution_count": 53,
   "metadata": {},
   "outputs": [],
   "source": [
    "df['even_row'] = df.index % 2 == 0 # expect column \"even_row\" is going to be alternating T/F"
   ]
  },
  {
   "cell_type": "code",
   "execution_count": 54,
   "metadata": {},
   "outputs": [
    {
     "data": {
      "text/html": [
       "<div>\n",
       "<style scoped>\n",
       "    .dataframe tbody tr th:only-of-type {\n",
       "        vertical-align: middle;\n",
       "    }\n",
       "\n",
       "    .dataframe tbody tr th {\n",
       "        vertical-align: top;\n",
       "    }\n",
       "\n",
       "    .dataframe thead th {\n",
       "        text-align: right;\n",
       "    }\n",
       "</style>\n",
       "<table border=\"1\" class=\"dataframe\">\n",
       "  <thead>\n",
       "    <tr style=\"text-align: right;\">\n",
       "      <th></th>\n",
       "      <th>s1</th>\n",
       "      <th>s2</th>\n",
       "      <th>s3</th>\n",
       "      <th>s4</th>\n",
       "      <th>temperature</th>\n",
       "      <th>temp_minus_mean</th>\n",
       "      <th>even_row</th>\n",
       "    </tr>\n",
       "  </thead>\n",
       "  <tbody>\n",
       "    <tr>\n",
       "      <th>0</th>\n",
       "      <td>14.858686</td>\n",
       "      <td>16.203555</td>\n",
       "      <td>2.768279</td>\n",
       "      <td>38.068660</td>\n",
       "      <td>23.455634</td>\n",
       "      <td>-13.043873</td>\n",
       "      <td>True</td>\n",
       "    </tr>\n",
       "    <tr>\n",
       "      <th>1</th>\n",
       "      <td>1.912388</td>\n",
       "      <td>8.830437</td>\n",
       "      <td>12.620198</td>\n",
       "      <td>18.142429</td>\n",
       "      <td>31.397519</td>\n",
       "      <td>-5.101988</td>\n",
       "      <td>False</td>\n",
       "    </tr>\n",
       "    <tr>\n",
       "      <th>2</th>\n",
       "      <td>247.190276</td>\n",
       "      <td>31.466881</td>\n",
       "      <td>22.731309</td>\n",
       "      <td>50.604681</td>\n",
       "      <td>12.815181</td>\n",
       "      <td>-23.684326</td>\n",
       "      <td>True</td>\n",
       "    </tr>\n",
       "    <tr>\n",
       "      <th>3</th>\n",
       "      <td>23.079741</td>\n",
       "      <td>6.622915</td>\n",
       "      <td>11.213211</td>\n",
       "      <td>130.738214</td>\n",
       "      <td>12.654930</td>\n",
       "      <td>-23.844577</td>\n",
       "      <td>False</td>\n",
       "    </tr>\n",
       "    <tr>\n",
       "      <th>4</th>\n",
       "      <td>5.746215</td>\n",
       "      <td>11.082504</td>\n",
       "      <td>19.895661</td>\n",
       "      <td>26.468886</td>\n",
       "      <td>31.566447</td>\n",
       "      <td>-4.933060</td>\n",
       "      <td>True</td>\n",
       "    </tr>\n",
       "  </tbody>\n",
       "</table>\n",
       "</div>"
      ],
      "text/plain": [
       "           s1         s2         s3          s4  temperature  temp_minus_mean  \\\n",
       "0   14.858686  16.203555   2.768279   38.068660    23.455634       -13.043873   \n",
       "1    1.912388   8.830437  12.620198   18.142429    31.397519        -5.101988   \n",
       "2  247.190276  31.466881  22.731309   50.604681    12.815181       -23.684326   \n",
       "3   23.079741   6.622915  11.213211  130.738214    12.654930       -23.844577   \n",
       "4    5.746215  11.082504  19.895661   26.468886    31.566447        -4.933060   \n",
       "\n",
       "   even_row  \n",
       "0      True  \n",
       "1     False  \n",
       "2      True  \n",
       "3     False  \n",
       "4      True  "
      ]
     },
     "execution_count": 54,
     "metadata": {},
     "output_type": "execute_result"
    }
   ],
   "source": [
    "df.head()\n",
    "# really want 0 and 1, not F / T"
   ]
  },
  {
   "cell_type": "markdown",
   "metadata": {},
   "source": [
    "## Universal functions\n",
    "\n",
    "Create functions that *broadcast* over collections (ndarray, series)."
   ]
  },
  {
   "cell_type": "code",
   "execution_count": 56,
   "metadata": {},
   "outputs": [
    {
     "data": {
      "text/plain": [
       "2"
      ]
     },
     "execution_count": 56,
     "metadata": {},
     "output_type": "execute_result"
    }
   ],
   "source": [
    "sum([True, True])"
   ]
  },
  {
   "cell_type": "code",
   "execution_count": 57,
   "metadata": {},
   "outputs": [],
   "source": [
    "# goal: change numeric row to a boolean value??\n",
    "\n",
    "def cast_boolean(b):\n",
    "    \"\"\"\n",
    "    boolean as int - not a universal function.\n",
    "    \"\"\"\n",
    "    if b:\n",
    "        return 1\n",
    "    else:\n",
    "        return 0    "
   ]
  },
  {
   "cell_type": "code",
   "execution_count": 58,
   "metadata": {},
   "outputs": [
    {
     "ename": "ValueError",
     "evalue": "The truth value of a Series is ambiguous. Use a.empty, a.bool(), a.item(), a.any() or a.all().",
     "output_type": "error",
     "traceback": [
      "\u001b[1;31m---------------------------------------------------------------------------\u001b[0m",
      "\u001b[1;31mValueError\u001b[0m                                Traceback (most recent call last)",
      "\u001b[1;32m<ipython-input-58-efbfffa94799>\u001b[0m in \u001b[0;36m<module>\u001b[1;34m\u001b[0m\n\u001b[1;32m----> 1\u001b[1;33m \u001b[0mcast_boolean\u001b[0m\u001b[1;33m(\u001b[0m\u001b[0mdf\u001b[0m\u001b[1;33m[\u001b[0m\u001b[1;34m'even_row'\u001b[0m\u001b[1;33m]\u001b[0m\u001b[1;33m)\u001b[0m \u001b[1;31m# can't do this... need a scalar vs entire row\u001b[0m\u001b[1;33m\u001b[0m\u001b[1;33m\u001b[0m\u001b[0m\n\u001b[0m",
      "\u001b[1;32m<ipython-input-57-df6403e9f456>\u001b[0m in \u001b[0;36mcast_boolean\u001b[1;34m(b)\u001b[0m\n\u001b[0;32m      5\u001b[0m     \u001b[0mboolean\u001b[0m \u001b[1;32mas\u001b[0m \u001b[0mint\u001b[0m \u001b[1;33m-\u001b[0m \u001b[1;32mnot\u001b[0m \u001b[0ma\u001b[0m \u001b[0muniversal\u001b[0m \u001b[0mfunction\u001b[0m\u001b[1;33m.\u001b[0m\u001b[1;33m\u001b[0m\u001b[1;33m\u001b[0m\u001b[0m\n\u001b[0;32m      6\u001b[0m     \"\"\"\n\u001b[1;32m----> 7\u001b[1;33m     \u001b[1;32mif\u001b[0m \u001b[0mb\u001b[0m\u001b[1;33m:\u001b[0m\u001b[1;33m\u001b[0m\u001b[1;33m\u001b[0m\u001b[0m\n\u001b[0m\u001b[0;32m      8\u001b[0m         \u001b[1;32mreturn\u001b[0m \u001b[1;36m1\u001b[0m\u001b[1;33m\u001b[0m\u001b[1;33m\u001b[0m\u001b[0m\n\u001b[0;32m      9\u001b[0m     \u001b[1;32melse\u001b[0m\u001b[1;33m:\u001b[0m\u001b[1;33m\u001b[0m\u001b[1;33m\u001b[0m\u001b[0m\n",
      "\u001b[1;32m~\\Anaconda3\\envs\\python102\\lib\\site-packages\\pandas\\core\\generic.py\u001b[0m in \u001b[0;36m__nonzero__\u001b[1;34m(self)\u001b[0m\n\u001b[0;32m   1553\u001b[0m             \u001b[1;34m\"The truth value of a {0} is ambiguous. \"\u001b[0m\u001b[1;33m\u001b[0m\u001b[1;33m\u001b[0m\u001b[0m\n\u001b[0;32m   1554\u001b[0m             \"Use a.empty, a.bool(), a.item(), a.any() or a.all().\".format(\n\u001b[1;32m-> 1555\u001b[1;33m                 \u001b[0mself\u001b[0m\u001b[1;33m.\u001b[0m\u001b[0m__class__\u001b[0m\u001b[1;33m.\u001b[0m\u001b[0m__name__\u001b[0m\u001b[1;33m\u001b[0m\u001b[1;33m\u001b[0m\u001b[0m\n\u001b[0m\u001b[0;32m   1556\u001b[0m             )\n\u001b[0;32m   1557\u001b[0m         )\n",
      "\u001b[1;31mValueError\u001b[0m: The truth value of a Series is ambiguous. Use a.empty, a.bool(), a.item(), a.any() or a.all()."
     ]
    }
   ],
   "source": [
    "cast_boolean(df['even_row']) # can't do this... need a scalar vs entire row"
   ]
  },
  {
   "cell_type": "code",
   "execution_count": 59,
   "metadata": {},
   "outputs": [],
   "source": [
    "cast_boolean_u = np.frompyfunc(cast_boolean, 1, 1) \n",
    "# makes your function universal?\n",
    "# applies your function over every row"
   ]
  },
  {
   "cell_type": "code",
   "execution_count": 61,
   "metadata": {},
   "outputs": [
    {
     "data": {
      "text/plain": [
       "0     1\n",
       "1     0\n",
       "2     1\n",
       "3     0\n",
       "4     1\n",
       "     ..\n",
       "95    0\n",
       "96    1\n",
       "97    0\n",
       "98    1\n",
       "99    0\n",
       "Name: even_row, Length: 100, dtype: object"
      ]
     },
     "execution_count": 61,
     "metadata": {},
     "output_type": "execute_result"
    }
   ],
   "source": [
    "cast_boolean_u(df['even_row']) # yay this works! broadcasts across the series"
   ]
  },
  {
   "cell_type": "code",
   "execution_count": null,
   "metadata": {},
   "outputs": [],
   "source": []
  }
 ],
 "metadata": {
  "kernelspec": {
   "display_name": "Python 3",
   "language": "python",
   "name": "python3"
  },
  "language_info": {
   "codemirror_mode": {
    "name": "ipython",
    "version": 3
   },
   "file_extension": ".py",
   "mimetype": "text/x-python",
   "name": "python",
   "nbconvert_exporter": "python",
   "pygments_lexer": "ipython3",
   "version": "3.7.5"
  }
 },
 "nbformat": 4,
 "nbformat_minor": 2
}
