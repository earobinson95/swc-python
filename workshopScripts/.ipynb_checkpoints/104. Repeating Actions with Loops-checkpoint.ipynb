{
 "cells": [
  {
   "cell_type": "markdown",
   "metadata": {},
   "source": [
    "http://swcarpentry.github.io/python-novice-inflammation/04-loop/index.html"
   ]
  },
  {
   "cell_type": "code",
   "execution_count": 2,
   "metadata": {},
   "outputs": [],
   "source": [
    "# import libraries\n",
    "import numpy as np\n",
    "import os\n",
    "%matplotlib inline\n",
    "import matplotlib.pyplot as plt"
   ]
  },
  {
   "cell_type": "code",
   "execution_count": 4,
   "metadata": {},
   "outputs": [
    {
     "name": "stdout",
     "output_type": "stream",
     "text": [
      " Volume in drive C is Windows\n",
      " Volume Serial Number is D6C6-6EDB\n",
      "\n",
      " Directory of C:\\Users\\ERobi\\Dropbox\\Conferences\\HCC\\swc-python\\workshopScripts\n",
      "\n",
      "01/06/2020  11:35 AM    <DIR>          .\n",
      "01/06/2020  11:35 AM    <DIR>          ..\n",
      "01/06/2020  11:34 AM    <DIR>          .ipynb_checkpoints\n",
      "01/06/2020  09:36 AM            27,711 1. Python Fundamentals.ipynb\n",
      "01/06/2020  10:52 AM            95,401 2. Analyzing Patient Data.ipynb\n",
      "01/06/2020  11:35 AM           106,813 3. Visualizing Tabular Data.ipynb\n",
      "01/06/2020  11:35 AM             1,754 4. Repeating Actions with Loops.ipynb\n",
      "               4 File(s)        231,679 bytes\n",
      "               3 Dir(s)  155,603,218,432 bytes free\n"
     ]
    }
   ],
   "source": [
    "!dir"
   ]
  },
  {
   "cell_type": "code",
   "execution_count": 5,
   "metadata": {},
   "outputs": [
    {
     "data": {
      "image/png": "[encoded data removed]",
      "text/plain": [
       "<Figure size 720x216 with 3 Axes>"
      ]
     },
     "metadata": {
      "needs_background": "light"
     },
     "output_type": "display_data"
    }
   ],
   "source": [
    "# what if we want to plot each of the inflammation datasets?\n",
    "\n",
    "data = np.loadtxt(fname = \"../data/inflammation-03.csv\", delimiter = \",\")\n",
    "\n",
    "fig = plt.figure(figsize = (10.0, 3.0)) # dimensions in inches (rough estimate)\n",
    "axes1 = fig.add_subplot(2, 2, (1,2)) # indicates row, col, place (by row)\n",
    "axes2 = fig.add_subplot(2, 2, 3)\n",
    "axes3 = fig.add_subplot(2, 2, 4)\n",
    "\n",
    "# can adjust above... think in tuples fix.add_subplot(1, 3, (1,2))\n",
    "\n",
    "axes1.set_ylabel(\"average\")\n",
    "axes1.set_xlabel(\"days\")\n",
    "axes1.plot(np.mean(data, axis = 0))\n",
    "\n",
    "axes2.set_ylabel(\"max\")\n",
    "axes2.set_xlabel(\"days\")\n",
    "axes2.plot(np.max(data, axis = 0))\n",
    "\n",
    "axes3.set_ylabel(\"min\")\n",
    "axes3.set_xlabel(\"days\")\n",
    "axes3.plot(np.min(data, axis = 0))\n",
    "axes3.set_ylim(0,6) # adjust range and domain\n",
    "\n",
    "fig.tight_layout()\n",
    "\n",
    "plt.show()"
   ]
  },
  {
   "cell_type": "code",
   "execution_count": 11,
   "metadata": {},
   "outputs": [
    {
     "name": "stdout",
     "output_type": "stream",
     "text": [
      "l\n",
      "e\n",
      "a\n",
      "d\n",
      " \n",
      "2\n"
     ]
    }
   ],
   "source": [
    "word = \"lead 2\"\n",
    "print(word[0])\n",
    "print(word[1])\n",
    "print(word[2])\n",
    "print(word[3])\n",
    "print(word[4])\n",
    "print(word[5])"
   ]
  },
  {
   "cell_type": "code",
   "execution_count": 16,
   "metadata": {},
   "outputs": [
    {
     "name": "stdout",
     "output_type": "stream",
     "text": [
      "a\n",
      "l\n",
      "p\n",
      "h\n",
      "a\n",
      "b\n",
      "e\n",
      "t\n"
     ]
    }
   ],
   "source": [
    "word = \"alphabet\" # change this\n",
    "for char in word: # char is just a placeholder (can name it whatever you want)\n",
    "    print(char)"
   ]
  },
  {
   "cell_type": "code",
   "execution_count": 17,
   "metadata": {},
   "outputs": [],
   "source": [
    "# python uses spacing to define sections as R does with { } in \n",
    "# for(i in 1:5) {\n",
    "#\n",
    "# }\n",
    "#THEREFORE, watch spacing!\n",
    "\n",
    "for variable in collection:\n",
    "    # do something"
   ]
  },
  {
   "cell_type": "code",
   "execution_count": 36,
   "metadata": {},
   "outputs": [
    {
     "name": "stdout",
     "output_type": "stream",
     "text": [
      "0\n",
      "1\n",
      "2\n",
      "There are 3 letters in range(0, 3).\n"
     ]
    }
   ],
   "source": [
    "#word = 'Nebraska'\n",
    "word = range(0,3)\n",
    "count = 0\n",
    "for letter in word:\n",
    "    print(letter)\n",
    "    count = count + 1\n",
    "    #count+=1 #will do the same thing\n",
    "print(\"There are \", count, \" letters in \", word, \".\", sep = \"\")"
   ]
  },
  {
   "cell_type": "code",
   "execution_count": 38,
   "metadata": {},
   "outputs": [
    {
     "name": "stdout",
     "output_type": "stream",
     "text": [
      "[1, 2]\n"
     ]
    }
   ],
   "source": [
    "print(list(range(1,3)))"
   ]
  },
  {
   "cell_type": "code",
   "execution_count": 39,
   "metadata": {},
   "outputs": [
    {
     "name": "stdout",
     "output_type": "stream",
     "text": [
      "o\n",
      "x\n",
      "y\n",
      "g\n",
      "e\n",
      "n\n"
     ]
    }
   ],
   "source": [
    "word = \"oxygen\"\n",
    "for char in word:\n",
    "    print(char)"
   ]
  },
  {
   "cell_type": "code",
   "execution_count": 1,
   "metadata": {},
   "outputs": [
    {
     "name": "stdout",
     "output_type": "stream",
     "text": [
      "notweN\n"
     ]
    }
   ],
   "source": [
    "# knowing that two strings can be concattenated using the + operator, \n",
    "# write a loop that takes a string and produces a new string with the \n",
    "# characters in reverse order, so that \"Newton\" becomes \"notweN\".\n",
    "\n",
    "word = \"Newton\"\n",
    "backward = \"\"\n",
    "for char in word:\n",
    "    backward = char + backward\n",
    "print(backward)"
   ]
  },
  {
   "cell_type": "code",
   "execution_count": 2,
   "metadata": {},
   "outputs": [
    {
     "name": "stdout",
     "output_type": "stream",
     "text": [
      "word\n"
     ]
    }
   ],
   "source": [
    "word = ['word'] # force word to be a single element of an array\n",
    "for char in word:\n",
    "    print(char)"
   ]
  }
 ],
 "metadata": {
  "kernelspec": {
   "display_name": "Python 3",
   "language": "python",
   "name": "python3"
  },
  "language_info": {
   "codemirror_mode": {
    "name": "ipython",
    "version": 3
   },
   "file_extension": ".py",
   "mimetype": "text/x-python",
   "name": "python",
   "nbconvert_exporter": "python",
   "pygments_lexer": "ipython3",
   "version": "3.7.4"
  }
 },
 "nbformat": 4,
 "nbformat_minor": 2
}
