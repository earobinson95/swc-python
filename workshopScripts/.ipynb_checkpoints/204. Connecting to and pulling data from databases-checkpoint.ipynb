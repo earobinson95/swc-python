{
 "cells": [
  {
   "cell_type": "markdown",
   "metadata": {},
   "source": [
    "https://grwoodw.github.io/python102/05-getting_data/"
   ]
  },
  {
   "cell_type": "markdown",
   "metadata": {},
   "source": [
    "## Questions\n",
    "How can I get real data?\n",
    "\n",
    "## Objectives\n",
    "Pull data from FRED, IEX, and an SQL Database"
   ]
  },
  {
   "cell_type": "code",
   "execution_count": 4,
   "metadata": {},
   "outputs": [
    {
     "name": "stdout",
     "output_type": "stream",
     "text": [
      "1972-01-01 - 2020-01-01\n"
     ]
    }
   ],
   "source": [
    "import numpy as np\n",
    "import pandas as pd\n",
    "import matplotlib.pyplot as plt\n",
    "import pandas_datareader as pdr\n",
    "import datetime\n",
    "\n",
    "start = datetime.date(1972,1,1)\n",
    "end   = datetime.date(2020,1,1)\n",
    "\n",
    "print(start, \"-\", end)"
   ]
  },
  {
   "cell_type": "code",
   "execution_count": 6,
   "metadata": {},
   "outputs": [
    {
     "data": {
      "text/html": [
       "<div>\n",
       "<style scoped>\n",
       "    .dataframe tbody tr th:only-of-type {\n",
       "        vertical-align: middle;\n",
       "    }\n",
       "\n",
       "    .dataframe tbody tr th {\n",
       "        vertical-align: top;\n",
       "    }\n",
       "\n",
       "    .dataframe thead th {\n",
       "        text-align: right;\n",
       "    }\n",
       "</style>\n",
       "<table border=\"1\" class=\"dataframe\">\n",
       "  <thead>\n",
       "    <tr style=\"text-align: right;\">\n",
       "      <th></th>\n",
       "      <th>CONSUMER</th>\n",
       "    </tr>\n",
       "    <tr>\n",
       "      <th>DATE</th>\n",
       "      <th></th>\n",
       "    </tr>\n",
       "  </thead>\n",
       "  <tbody>\n",
       "    <tr>\n",
       "      <th>1972-01-01</th>\n",
       "      <td>73.9491</td>\n",
       "    </tr>\n",
       "    <tr>\n",
       "      <th>1972-02-01</th>\n",
       "      <td>74.9702</td>\n",
       "    </tr>\n",
       "    <tr>\n",
       "      <th>1972-03-01</th>\n",
       "      <td>76.1145</td>\n",
       "    </tr>\n",
       "    <tr>\n",
       "      <th>1972-04-01</th>\n",
       "      <td>77.0567</td>\n",
       "    </tr>\n",
       "    <tr>\n",
       "      <th>1972-05-01</th>\n",
       "      <td>78.1100</td>\n",
       "    </tr>\n",
       "  </tbody>\n",
       "</table>\n",
       "</div>"
      ],
      "text/plain": [
       "            CONSUMER\n",
       "DATE                \n",
       "1972-01-01   73.9491\n",
       "1972-02-01   74.9702\n",
       "1972-03-01   76.1145\n",
       "1972-04-01   77.0567\n",
       "1972-05-01   78.1100"
      ]
     },
     "execution_count": 6,
     "metadata": {},
     "output_type": "execute_result"
    }
   ],
   "source": [
    "# df = pdr.data.DataReader(\"dataset\", \"datasource\", start, end)\n",
    "df = pdr.data.DataReader(\"CONSUMER\", \"fred\", start, end)\n",
    "df.head()"
   ]
  },
  {
   "cell_type": "code",
   "execution_count": 8,
   "metadata": {},
   "outputs": [
    {
     "data": {
      "text/plain": [
       "DATE\n",
       "1972-01-01      73.9491\n",
       "1972-02-01      74.9702\n",
       "1972-03-01      76.1145\n",
       "1972-04-01      77.0567\n",
       "1972-05-01      78.1100\n",
       "                ...    \n",
       "2019-07-01    1550.2879\n",
       "2019-08-01    1557.2559\n",
       "2019-09-01    1562.8138\n",
       "2019-10-01    1574.3597\n",
       "2019-11-01    1579.3164\n",
       "Name: CONSUMER, Length: 575, dtype: float64"
      ]
     },
     "execution_count": 8,
     "metadata": {},
     "output_type": "execute_result"
    }
   ],
   "source": [
    "df['CONSUMER'] # grabbing a single column"
   ]
  },
  {
   "cell_type": "code",
   "execution_count": 9,
   "metadata": {},
   "outputs": [
    {
     "data": {
      "text/plain": [
       "CONSUMER    73.9491\n",
       "Name: 1972-01-01 00:00:00, dtype: float64"
      ]
     },
     "execution_count": 9,
     "metadata": {},
     "output_type": "execute_result"
    }
   ],
   "source": [
    "df.loc['1972-01-01'] # grabbing a single row"
   ]
  },
  {
   "cell_type": "code",
   "execution_count": 13,
   "metadata": {},
   "outputs": [
    {
     "data": {
      "text/html": [
       "<div>\n",
       "<style scoped>\n",
       "    .dataframe tbody tr th:only-of-type {\n",
       "        vertical-align: middle;\n",
       "    }\n",
       "\n",
       "    .dataframe tbody tr th {\n",
       "        vertical-align: top;\n",
       "    }\n",
       "\n",
       "    .dataframe thead th {\n",
       "        text-align: right;\n",
       "    }\n",
       "</style>\n",
       "<table border=\"1\" class=\"dataframe\">\n",
       "  <thead>\n",
       "    <tr style=\"text-align: right;\">\n",
       "      <th></th>\n",
       "      <th>CONSUMER</th>\n",
       "      <th>MORTG</th>\n",
       "      <th>TCU</th>\n",
       "      <th>UNRATE</th>\n",
       "    </tr>\n",
       "    <tr>\n",
       "      <th>DATE</th>\n",
       "      <th></th>\n",
       "      <th></th>\n",
       "      <th></th>\n",
       "      <th></th>\n",
       "    </tr>\n",
       "  </thead>\n",
       "  <tbody>\n",
       "    <tr>\n",
       "      <th>1972-01-01</th>\n",
       "      <td>73.9491</td>\n",
       "      <td>7.44</td>\n",
       "      <td>82.6379</td>\n",
       "      <td>5.8</td>\n",
       "    </tr>\n",
       "    <tr>\n",
       "      <th>1972-02-01</th>\n",
       "      <td>74.9702</td>\n",
       "      <td>7.33</td>\n",
       "      <td>83.2437</td>\n",
       "      <td>5.7</td>\n",
       "    </tr>\n",
       "    <tr>\n",
       "      <th>1972-03-01</th>\n",
       "      <td>76.1145</td>\n",
       "      <td>7.30</td>\n",
       "      <td>83.6216</td>\n",
       "      <td>5.8</td>\n",
       "    </tr>\n",
       "    <tr>\n",
       "      <th>1972-04-01</th>\n",
       "      <td>77.0567</td>\n",
       "      <td>7.29</td>\n",
       "      <td>84.3016</td>\n",
       "      <td>5.7</td>\n",
       "    </tr>\n",
       "    <tr>\n",
       "      <th>1972-05-01</th>\n",
       "      <td>78.1100</td>\n",
       "      <td>7.37</td>\n",
       "      <td>84.0517</td>\n",
       "      <td>5.7</td>\n",
       "    </tr>\n",
       "  </tbody>\n",
       "</table>\n",
       "</div>"
      ],
      "text/plain": [
       "            CONSUMER  MORTG      TCU  UNRATE\n",
       "DATE                                        \n",
       "1972-01-01   73.9491   7.44  82.6379     5.8\n",
       "1972-02-01   74.9702   7.33  83.2437     5.7\n",
       "1972-03-01   76.1145   7.30  83.6216     5.8\n",
       "1972-04-01   77.0567   7.29  84.3016     5.7\n",
       "1972-05-01   78.1100   7.37  84.0517     5.7"
      ]
     },
     "execution_count": 13,
     "metadata": {},
     "output_type": "execute_result"
    }
   ],
   "source": [
    "df = pdr.data.get_data_fred([\"CONSUMER\", \"MORTG\", \"TCU\", \"UNRATE\"], start, end)\n",
    "df.head()"
   ]
  },
  {
   "cell_type": "code",
   "execution_count": 14,
   "metadata": {},
   "outputs": [
    {
     "data": {
      "text/html": [
       "<div>\n",
       "<style scoped>\n",
       "    .dataframe tbody tr th:only-of-type {\n",
       "        vertical-align: middle;\n",
       "    }\n",
       "\n",
       "    .dataframe tbody tr th {\n",
       "        vertical-align: top;\n",
       "    }\n",
       "\n",
       "    .dataframe thead th {\n",
       "        text-align: right;\n",
       "    }\n",
       "</style>\n",
       "<table border=\"1\" class=\"dataframe\">\n",
       "  <thead>\n",
       "    <tr style=\"text-align: right;\">\n",
       "      <th></th>\n",
       "      <th>CONSUMER</th>\n",
       "      <th>MORTG</th>\n",
       "      <th>TCU</th>\n",
       "      <th>UNRATE</th>\n",
       "    </tr>\n",
       "    <tr>\n",
       "      <th>DATE</th>\n",
       "      <th></th>\n",
       "      <th></th>\n",
       "      <th></th>\n",
       "      <th></th>\n",
       "    </tr>\n",
       "  </thead>\n",
       "  <tbody>\n",
       "    <tr>\n",
       "      <th>1973-09-01</th>\n",
       "      <td>96.0072</td>\n",
       "      <td>8.82</td>\n",
       "      <td>88.2545</td>\n",
       "      <td>4.8</td>\n",
       "    </tr>\n",
       "    <tr>\n",
       "      <th>1973-10-01</th>\n",
       "      <td>96.7889</td>\n",
       "      <td>8.77</td>\n",
       "      <td>88.5610</td>\n",
       "      <td>4.6</td>\n",
       "    </tr>\n",
       "    <tr>\n",
       "      <th>1973-11-01</th>\n",
       "      <td>97.7758</td>\n",
       "      <td>8.58</td>\n",
       "      <td>88.7482</td>\n",
       "      <td>4.8</td>\n",
       "    </tr>\n",
       "    <tr>\n",
       "      <th>1973-12-01</th>\n",
       "      <td>98.3507</td>\n",
       "      <td>8.54</td>\n",
       "      <td>88.2676</td>\n",
       "      <td>4.9</td>\n",
       "    </tr>\n",
       "    <tr>\n",
       "      <th>1974-01-01</th>\n",
       "      <td>99.0661</td>\n",
       "      <td>8.54</td>\n",
       "      <td>87.3874</td>\n",
       "      <td>5.1</td>\n",
       "    </tr>\n",
       "    <tr>\n",
       "      <th>1974-02-01</th>\n",
       "      <td>99.6755</td>\n",
       "      <td>8.46</td>\n",
       "      <td>86.8692</td>\n",
       "      <td>5.2</td>\n",
       "    </tr>\n",
       "    <tr>\n",
       "      <th>1974-03-01</th>\n",
       "      <td>100.3000</td>\n",
       "      <td>8.41</td>\n",
       "      <td>86.6610</td>\n",
       "      <td>5.1</td>\n",
       "    </tr>\n",
       "    <tr>\n",
       "      <th>1974-04-01</th>\n",
       "      <td>100.8969</td>\n",
       "      <td>8.58</td>\n",
       "      <td>86.1406</td>\n",
       "      <td>5.1</td>\n",
       "    </tr>\n",
       "    <tr>\n",
       "      <th>1974-05-01</th>\n",
       "      <td>101.3631</td>\n",
       "      <td>8.97</td>\n",
       "      <td>86.6077</td>\n",
       "      <td>5.1</td>\n",
       "    </tr>\n",
       "    <tr>\n",
       "      <th>1974-06-01</th>\n",
       "      <td>101.8050</td>\n",
       "      <td>9.09</td>\n",
       "      <td>86.3121</td>\n",
       "      <td>5.4</td>\n",
       "    </tr>\n",
       "  </tbody>\n",
       "</table>\n",
       "</div>"
      ],
      "text/plain": [
       "            CONSUMER  MORTG      TCU  UNRATE\n",
       "DATE                                        \n",
       "1973-09-01   96.0072   8.82  88.2545     4.8\n",
       "1973-10-01   96.7889   8.77  88.5610     4.6\n",
       "1973-11-01   97.7758   8.58  88.7482     4.8\n",
       "1973-12-01   98.3507   8.54  88.2676     4.9\n",
       "1974-01-01   99.0661   8.54  87.3874     5.1\n",
       "1974-02-01   99.6755   8.46  86.8692     5.2\n",
       "1974-03-01  100.3000   8.41  86.6610     5.1\n",
       "1974-04-01  100.8969   8.58  86.1406     5.1\n",
       "1974-05-01  101.3631   8.97  86.6077     5.1\n",
       "1974-06-01  101.8050   9.09  86.3121     5.4"
      ]
     },
     "execution_count": 14,
     "metadata": {},
     "output_type": "execute_result"
    }
   ],
   "source": [
    "df.iloc[20:30] # allows you to use an index, instead of the rowname"
   ]
  },
  {
   "cell_type": "markdown",
   "metadata": {},
   "source": [
    "### Use the get_data_fred to pull four data series of your choice and plot using matplotlib:"
   ]
  },
  {
   "cell_type": "code",
   "execution_count": 17,
   "metadata": {},
   "outputs": [
    {
     "data": {
      "text/html": [
       "<div>\n",
       "<style scoped>\n",
       "    .dataframe tbody tr th:only-of-type {\n",
       "        vertical-align: middle;\n",
       "    }\n",
       "\n",
       "    .dataframe tbody tr th {\n",
       "        vertical-align: top;\n",
       "    }\n",
       "\n",
       "    .dataframe thead th {\n",
       "        text-align: right;\n",
       "    }\n",
       "</style>\n",
       "<table border=\"1\" class=\"dataframe\">\n",
       "  <thead>\n",
       "    <tr style=\"text-align: right;\">\n",
       "      <th></th>\n",
       "      <th>CONSUMER</th>\n",
       "      <th>T10Y2Y</th>\n",
       "      <th>WALCL</th>\n",
       "      <th>UNRATE</th>\n",
       "    </tr>\n",
       "    <tr>\n",
       "      <th>DATE</th>\n",
       "      <th></th>\n",
       "      <th></th>\n",
       "      <th></th>\n",
       "      <th></th>\n",
       "    </tr>\n",
       "  </thead>\n",
       "  <tbody>\n",
       "    <tr>\n",
       "      <th>1972-01-01</th>\n",
       "      <td>73.9491</td>\n",
       "      <td>NaN</td>\n",
       "      <td>NaN</td>\n",
       "      <td>5.8</td>\n",
       "    </tr>\n",
       "    <tr>\n",
       "      <th>1972-02-01</th>\n",
       "      <td>74.9702</td>\n",
       "      <td>NaN</td>\n",
       "      <td>NaN</td>\n",
       "      <td>5.7</td>\n",
       "    </tr>\n",
       "    <tr>\n",
       "      <th>1972-03-01</th>\n",
       "      <td>76.1145</td>\n",
       "      <td>NaN</td>\n",
       "      <td>NaN</td>\n",
       "      <td>5.8</td>\n",
       "    </tr>\n",
       "    <tr>\n",
       "      <th>1972-04-01</th>\n",
       "      <td>77.0567</td>\n",
       "      <td>NaN</td>\n",
       "      <td>NaN</td>\n",
       "      <td>5.7</td>\n",
       "    </tr>\n",
       "    <tr>\n",
       "      <th>1972-05-01</th>\n",
       "      <td>78.1100</td>\n",
       "      <td>NaN</td>\n",
       "      <td>NaN</td>\n",
       "      <td>5.7</td>\n",
       "    </tr>\n",
       "    <tr>\n",
       "      <th>...</th>\n",
       "      <td>...</td>\n",
       "      <td>...</td>\n",
       "      <td>...</td>\n",
       "      <td>...</td>\n",
       "    </tr>\n",
       "    <tr>\n",
       "      <th>2019-12-26</th>\n",
       "      <td>NaN</td>\n",
       "      <td>0.26</td>\n",
       "      <td>NaN</td>\n",
       "      <td>NaN</td>\n",
       "    </tr>\n",
       "    <tr>\n",
       "      <th>2019-12-27</th>\n",
       "      <td>NaN</td>\n",
       "      <td>0.29</td>\n",
       "      <td>NaN</td>\n",
       "      <td>NaN</td>\n",
       "    </tr>\n",
       "    <tr>\n",
       "      <th>2019-12-30</th>\n",
       "      <td>NaN</td>\n",
       "      <td>0.32</td>\n",
       "      <td>NaN</td>\n",
       "      <td>NaN</td>\n",
       "    </tr>\n",
       "    <tr>\n",
       "      <th>2019-12-31</th>\n",
       "      <td>NaN</td>\n",
       "      <td>0.34</td>\n",
       "      <td>NaN</td>\n",
       "      <td>NaN</td>\n",
       "    </tr>\n",
       "    <tr>\n",
       "      <th>2020-01-01</th>\n",
       "      <td>NaN</td>\n",
       "      <td>NaN</td>\n",
       "      <td>4173626.0</td>\n",
       "      <td>NaN</td>\n",
       "    </tr>\n",
       "  </tbody>\n",
       "</table>\n",
       "<p>11573 rows × 4 columns</p>\n",
       "</div>"
      ],
      "text/plain": [
       "            CONSUMER  T10Y2Y      WALCL  UNRATE\n",
       "DATE                                           \n",
       "1972-01-01   73.9491     NaN        NaN     5.8\n",
       "1972-02-01   74.9702     NaN        NaN     5.7\n",
       "1972-03-01   76.1145     NaN        NaN     5.8\n",
       "1972-04-01   77.0567     NaN        NaN     5.7\n",
       "1972-05-01   78.1100     NaN        NaN     5.7\n",
       "...              ...     ...        ...     ...\n",
       "2019-12-26       NaN    0.26        NaN     NaN\n",
       "2019-12-27       NaN    0.29        NaN     NaN\n",
       "2019-12-30       NaN    0.32        NaN     NaN\n",
       "2019-12-31       NaN    0.34        NaN     NaN\n",
       "2020-01-01       NaN     NaN  4173626.0     NaN\n",
       "\n",
       "[11573 rows x 4 columns]"
      ]
     },
     "execution_count": 17,
     "metadata": {},
     "output_type": "execute_result"
    }
   ],
   "source": [
    "df = pdr.data.get_data_fred([\"CONSUMER\", \"T10Y2Y\", \"WALCL\", \"UNRATE\"], start, end)\n",
    "df"
   ]
  },
  {
   "cell_type": "code",
   "execution_count": 22,
   "metadata": {},
   "outputs": [
    {
     "data": {
      "text/plain": [
       "<function matplotlib.pyplot.show(*args, **kw)>"
      ]
     },
     "execution_count": 22,
     "metadata": {},
     "output_type": "execute_result"
    },
    {
     "data": {
      "image/png": "[encoded data removed]",
      "text/plain": [
       "<Figure size 432x288 with 1 Axes>"
      ]
     },
     "metadata": {
      "needs_background": "light"
     },
     "output_type": "display_data"
    }
   ],
   "source": [
    "plt.plot(df)\n",
    "plt.show"
   ]
  },
  {
   "cell_type": "code",
   "execution_count": 24,
   "metadata": {},
   "outputs": [
    {
     "data": {
      "image/png": "[encoded data removed]",
      "text/plain": [
       "<Figure size 432x288 with 1 Axes>"
      ]
     },
     "metadata": {
      "needs_background": "light"
     },
     "output_type": "display_data"
    }
   ],
   "source": [
    "df.plot()\n",
    "plt.show()"
   ]
  },
  {
   "cell_type": "code",
   "execution_count": 25,
   "metadata": {},
   "outputs": [
    {
     "data": {
      "image/png": "[encoded data removed]",
      "text/plain": [
       "<Figure size 720x720 with 4 Axes>"
      ]
     },
     "metadata": {
      "needs_background": "light"
     },
     "output_type": "display_data"
    }
   ],
   "source": [
    "fig = plt.figure(figsize = (10.0, 10.0)) # dimensions in inches (rough estimate)\n",
    "axes1 = fig.add_subplot(2, 2, 1) # indicates row, col, place (by row)\n",
    "axes2 = fig.add_subplot(2, 2, 2)\n",
    "axes3 = fig.add_subplot(2, 2, 3)\n",
    "axes4 = fig.add_subplot(2, 2, 4)\n",
    "\n",
    "axes1.set_ylabel('CONSUMER')\n",
    "axes1.set_xlabel(\"DATE\")\n",
    "axes1.plot(df['CONSUMER'])\n",
    "                        \n",
    "axes2.set_ylabel(\"T10Y2Y\")\n",
    "axes2.set_xlabel(\"DATE\")\n",
    "axes2.plot(df[\"T10Y2Y\"])\n",
    "\n",
    "axes3.set_ylabel(\"WALCL\")\n",
    "axes3.set_xlabel(\"DATE\")\n",
    "axes3.plot(df[\"WALCL\"])\n",
    "                        \n",
    "axes4.set_ylabel(\"UNRATE\")\n",
    "axes4.set_xlabel(\"DATE\")\n",
    "axes4.plot(df[\"UNRATE\"])\n",
    "\n",
    "fig.tight_layout()\n",
    "\n",
    "plt.show()"
   ]
  },
  {
   "cell_type": "code",
   "execution_count": 27,
   "metadata": {},
   "outputs": [
    {
     "data": {
      "text/html": [
       "<div>\n",
       "<style scoped>\n",
       "    .dataframe tbody tr th:only-of-type {\n",
       "        vertical-align: middle;\n",
       "    }\n",
       "\n",
       "    .dataframe tbody tr th {\n",
       "        vertical-align: top;\n",
       "    }\n",
       "\n",
       "    .dataframe thead th {\n",
       "        text-align: right;\n",
       "    }\n",
       "</style>\n",
       "<table border=\"1\" class=\"dataframe\">\n",
       "  <thead>\n",
       "    <tr style=\"text-align: right;\">\n",
       "      <th></th>\n",
       "      <th>Open</th>\n",
       "      <th>High</th>\n",
       "      <th>Low</th>\n",
       "      <th>Close</th>\n",
       "      <th>Volume</th>\n",
       "    </tr>\n",
       "    <tr>\n",
       "      <th>Date</th>\n",
       "      <th></th>\n",
       "      <th></th>\n",
       "      <th></th>\n",
       "      <th></th>\n",
       "      <th></th>\n",
       "    </tr>\n",
       "  </thead>\n",
       "  <tbody>\n",
       "    <tr>\n",
       "      <th>2020-01-06</th>\n",
       "      <td>3217.55</td>\n",
       "      <td>3246.84</td>\n",
       "      <td>3214.64</td>\n",
       "      <td>3246.28</td>\n",
       "      <td>NaN</td>\n",
       "    </tr>\n",
       "    <tr>\n",
       "      <th>2020-01-03</th>\n",
       "      <td>3226.36</td>\n",
       "      <td>3246.15</td>\n",
       "      <td>3222.34</td>\n",
       "      <td>3234.85</td>\n",
       "      <td>509241848.0</td>\n",
       "    </tr>\n",
       "    <tr>\n",
       "      <th>2020-01-02</th>\n",
       "      <td>3244.67</td>\n",
       "      <td>3258.14</td>\n",
       "      <td>3235.53</td>\n",
       "      <td>3257.85</td>\n",
       "      <td>517131498.0</td>\n",
       "    </tr>\n",
       "    <tr>\n",
       "      <th>2019-12-31</th>\n",
       "      <td>3215.18</td>\n",
       "      <td>3231.72</td>\n",
       "      <td>3212.03</td>\n",
       "      <td>3230.78</td>\n",
       "      <td>431595893.0</td>\n",
       "    </tr>\n",
       "    <tr>\n",
       "      <th>2019-12-30</th>\n",
       "      <td>3240.09</td>\n",
       "      <td>3240.92</td>\n",
       "      <td>3216.57</td>\n",
       "      <td>3221.29</td>\n",
       "      <td>344987511.0</td>\n",
       "    </tr>\n",
       "  </tbody>\n",
       "</table>\n",
       "</div>"
      ],
      "text/plain": [
       "               Open     High      Low    Close       Volume\n",
       "Date                                                       \n",
       "2020-01-06  3217.55  3246.84  3214.64  3246.28          NaN\n",
       "2020-01-03  3226.36  3246.15  3222.34  3234.85  509241848.0\n",
       "2020-01-02  3244.67  3258.14  3235.53  3257.85  517131498.0\n",
       "2019-12-31  3215.18  3231.72  3212.03  3230.78  431595893.0\n",
       "2019-12-30  3240.09  3240.92  3216.57  3221.29  344987511.0"
      ]
     },
     "execution_count": 27,
     "metadata": {},
     "output_type": "execute_result"
    }
   ],
   "source": [
    "df = pdr.data.DataReader('^SPX', 'stooq', start, end)\n",
    "df.head()"
   ]
  },
  {
   "cell_type": "code",
   "execution_count": 29,
   "metadata": {},
   "outputs": [
    {
     "data": {
      "text/html": [
       "<div>\n",
       "<style scoped>\n",
       "    .dataframe tbody tr th:only-of-type {\n",
       "        vertical-align: middle;\n",
       "    }\n",
       "\n",
       "    .dataframe tbody tr th {\n",
       "        vertical-align: top;\n",
       "    }\n",
       "\n",
       "    .dataframe thead th {\n",
       "        text-align: right;\n",
       "    }\n",
       "</style>\n",
       "<table border=\"1\" class=\"dataframe\">\n",
       "  <thead>\n",
       "    <tr style=\"text-align: right;\">\n",
       "      <th></th>\n",
       "      <th>Open</th>\n",
       "      <th>High</th>\n",
       "      <th>Low</th>\n",
       "      <th>Close</th>\n",
       "      <th>Volume</th>\n",
       "    </tr>\n",
       "    <tr>\n",
       "      <th>Date</th>\n",
       "      <th></th>\n",
       "      <th></th>\n",
       "      <th></th>\n",
       "      <th></th>\n",
       "      <th></th>\n",
       "    </tr>\n",
       "  </thead>\n",
       "  <tbody>\n",
       "    <tr>\n",
       "      <th>2015-01-14</th>\n",
       "      <td>2018.40</td>\n",
       "      <td>2018.40</td>\n",
       "      <td>1988.44</td>\n",
       "      <td>2011.27</td>\n",
       "      <td>673109120.0</td>\n",
       "    </tr>\n",
       "    <tr>\n",
       "      <th>2015-01-13</th>\n",
       "      <td>2031.58</td>\n",
       "      <td>2056.93</td>\n",
       "      <td>2008.25</td>\n",
       "      <td>2023.03</td>\n",
       "      <td>610249408.0</td>\n",
       "    </tr>\n",
       "    <tr>\n",
       "      <th>2015-01-12</th>\n",
       "      <td>2046.13</td>\n",
       "      <td>2049.30</td>\n",
       "      <td>2022.58</td>\n",
       "      <td>2028.26</td>\n",
       "      <td>536720096.0</td>\n",
       "    </tr>\n",
       "    <tr>\n",
       "      <th>2015-01-09</th>\n",
       "      <td>2063.45</td>\n",
       "      <td>2064.43</td>\n",
       "      <td>2038.33</td>\n",
       "      <td>2044.81</td>\n",
       "      <td>503961248.0</td>\n",
       "    </tr>\n",
       "    <tr>\n",
       "      <th>2015-01-08</th>\n",
       "      <td>2030.61</td>\n",
       "      <td>2064.08</td>\n",
       "      <td>2030.61</td>\n",
       "      <td>2062.14</td>\n",
       "      <td>605115072.0</td>\n",
       "    </tr>\n",
       "  </tbody>\n",
       "</table>\n",
       "</div>"
      ],
      "text/plain": [
       "               Open     High      Low    Close       Volume\n",
       "Date                                                       \n",
       "2015-01-14  2018.40  2018.40  1988.44  2011.27  673109120.0\n",
       "2015-01-13  2031.58  2056.93  2008.25  2023.03  610249408.0\n",
       "2015-01-12  2046.13  2049.30  2022.58  2028.26  536720096.0\n",
       "2015-01-09  2063.45  2064.43  2038.33  2044.81  503961248.0\n",
       "2015-01-08  2030.61  2064.08  2030.61  2062.14  605115072.0"
      ]
     },
     "execution_count": 29,
     "metadata": {},
     "output_type": "execute_result"
    }
   ],
   "source": [
    "df.tail()"
   ]
  },
  {
   "cell_type": "markdown",
   "metadata": {},
   "source": [
    "## SQL (Structured Query Language)"
   ]
  },
  {
   "cell_type": "code",
   "execution_count": 31,
   "metadata": {},
   "outputs": [
    {
     "name": "stdout",
     "output_type": "stream",
     "text": [
      "2.6.0\n"
     ]
    }
   ],
   "source": [
    "import sqlite3\n",
    "\n",
    "conn = sqlite3.connect(\"../myDatabase.db\")\n",
    "print(sqlite3.version)"
   ]
  },
  {
   "cell_type": "code",
   "execution_count": 32,
   "metadata": {},
   "outputs": [],
   "source": [
    "c = conn.cursor()\n",
    "c.execute('CREATE TABLE stocks (date text, trans text, symbol text, qty real, price real)')\n",
    "c.execute(\"INSERT INTO stocks VALUES ('2006-01-05','BUY', 'RHAT', 100, 35.14)\")\n",
    "conn.commit()"
   ]
  },
  {
   "cell_type": "code",
   "execution_count": 33,
   "metadata": {},
   "outputs": [
    {
     "data": {
      "text/plain": [
       "('2006-01-05', 'BUY', 'RHAT', 100.0, 35.14)"
      ]
     },
     "execution_count": 33,
     "metadata": {},
     "output_type": "execute_result"
    }
   ],
   "source": [
    "c.execute(\"SELECT * FROM stocks\")\n",
    "c.fetchone() # can also do c.fetchall()"
   ]
  },
  {
   "cell_type": "code",
   "execution_count": 40,
   "metadata": {},
   "outputs": [
    {
     "data": {
      "text/plain": [
       "('2006-01-05', 'BUY', 'RHAT', 100.0, 35.14)"
      ]
     },
     "execution_count": 40,
     "metadata": {},
     "output_type": "execute_result"
    }
   ],
   "source": [
    "t = ('RHAT',200)\n",
    "# \"SELECT * FROM stocks WHERE symbol=\"+'RHAT'\n",
    "c.execute(\"SELECT * FROM stocks WHERE symbol=? and qty<?\", t)\n",
    "c.fetchone()"
   ]
  },
  {
   "cell_type": "code",
   "execution_count": 43,
   "metadata": {},
   "outputs": [],
   "source": [
    "purchases = [('2006-03-28', 'BUY', 'IBM', 1000, 45.00),\n",
    "             ('2006-04-05', 'BUY', 'MSFT', 1000, 72.00),\n",
    "             ('2006-04-06', 'SELL', 'IBM', 500, 53.00),\n",
    "            ]\n",
    "c.executemany('INSERT INTO stocks VALUES (?,?,?,?,?)', purchases)\n",
    "conn.commit()"
   ]
  },
  {
   "cell_type": "code",
   "execution_count": 45,
   "metadata": {},
   "outputs": [
    {
     "data": {
      "text/plain": [
       "[('2006-03-28', 'BUY', 'IBM', 1000.0, 45.0),\n",
       " ('2006-04-05', 'BUY', 'MSFT', 1000.0, 72.0),\n",
       " ('2006-04-06', 'SELL', 'IBM', 500.0, 53.0),\n",
       " ('2006-01-05', 'BUY', 'RHAT', 100.0, 35.14)]"
      ]
     },
     "execution_count": 45,
     "metadata": {},
     "output_type": "execute_result"
    }
   ],
   "source": [
    "c.execute(\"SELECT * FROM stocks order by qty desc\")\n",
    "c.fetchall()"
   ]
  },
  {
   "cell_type": "code",
   "execution_count": 46,
   "metadata": {},
   "outputs": [],
   "source": [
    "conn.close()"
   ]
  },
  {
   "cell_type": "code",
   "execution_count": 54,
   "metadata": {},
   "outputs": [
    {
     "data": {
      "text/html": [
       "<div>\n",
       "<style scoped>\n",
       "    .dataframe tbody tr th:only-of-type {\n",
       "        vertical-align: middle;\n",
       "    }\n",
       "\n",
       "    .dataframe tbody tr th {\n",
       "        vertical-align: top;\n",
       "    }\n",
       "\n",
       "    .dataframe thead th {\n",
       "        text-align: right;\n",
       "    }\n",
       "</style>\n",
       "<table border=\"1\" class=\"dataframe\">\n",
       "  <thead>\n",
       "    <tr style=\"text-align: right;\">\n",
       "      <th></th>\n",
       "      <th>Open</th>\n",
       "      <th>High</th>\n",
       "      <th>Low</th>\n",
       "      <th>Close</th>\n",
       "      <th>Adj Close</th>\n",
       "      <th>Volume</th>\n",
       "    </tr>\n",
       "    <tr>\n",
       "      <th>Date</th>\n",
       "      <th></th>\n",
       "      <th></th>\n",
       "      <th></th>\n",
       "      <th></th>\n",
       "      <th></th>\n",
       "      <th></th>\n",
       "    </tr>\n",
       "  </thead>\n",
       "  <tbody>\n",
       "    <tr>\n",
       "      <th>2017-12-05</th>\n",
       "      <td>747.000000</td>\n",
       "      <td>763.299988</td>\n",
       "      <td>703.599976</td>\n",
       "      <td>712.760010</td>\n",
       "      <td>712.760010</td>\n",
       "      <td>1225500</td>\n",
       "    </tr>\n",
       "    <tr>\n",
       "      <th>2017-12-06</th>\n",
       "      <td>705.630005</td>\n",
       "      <td>711.760010</td>\n",
       "      <td>696.940002</td>\n",
       "      <td>698.650024</td>\n",
       "      <td>698.650024</td>\n",
       "      <td>492900</td>\n",
       "    </tr>\n",
       "    <tr>\n",
       "      <th>2017-12-07</th>\n",
       "      <td>701.460022</td>\n",
       "      <td>704.090027</td>\n",
       "      <td>693.750000</td>\n",
       "      <td>702.340027</td>\n",
       "      <td>702.340027</td>\n",
       "      <td>417300</td>\n",
       "    </tr>\n",
       "    <tr>\n",
       "      <th>2017-12-08</th>\n",
       "      <td>702.789978</td>\n",
       "      <td>723.429993</td>\n",
       "      <td>701.289978</td>\n",
       "      <td>721.890015</td>\n",
       "      <td>721.890015</td>\n",
       "      <td>546900</td>\n",
       "    </tr>\n",
       "    <tr>\n",
       "      <th>2017-12-11</th>\n",
       "      <td>719.590027</td>\n",
       "      <td>720.799988</td>\n",
       "      <td>705.780029</td>\n",
       "      <td>708.609985</td>\n",
       "      <td>708.609985</td>\n",
       "      <td>501900</td>\n",
       "    </tr>\n",
       "  </tbody>\n",
       "</table>\n",
       "</div>"
      ],
      "text/plain": [
       "                  Open        High         Low       Close   Adj Close  \\\n",
       "Date                                                                     \n",
       "2017-12-05  747.000000  763.299988  703.599976  712.760010  712.760010   \n",
       "2017-12-06  705.630005  711.760010  696.940002  698.650024  698.650024   \n",
       "2017-12-07  701.460022  704.090027  693.750000  702.340027  702.340027   \n",
       "2017-12-08  702.789978  723.429993  701.289978  721.890015  721.890015   \n",
       "2017-12-11  719.590027  720.799988  705.780029  708.609985  708.609985   \n",
       "\n",
       "             Volume  \n",
       "Date                 \n",
       "2017-12-05  1225500  \n",
       "2017-12-06   492900  \n",
       "2017-12-07   417300  \n",
       "2017-12-08   546900  \n",
       "2017-12-11   501900  "
      ]
     },
     "execution_count": 54,
     "metadata": {},
     "output_type": "execute_result"
    }
   ],
   "source": [
    "conn = sqlite3.connect(\"../myDatabase.db\")\n",
    "df = pd.read_csv('../AZO.csv', index_col = 0)\n",
    "df.head()"
   ]
  },
  {
   "cell_type": "code",
   "execution_count": 56,
   "metadata": {},
   "outputs": [
    {
     "data": {
      "text/plain": [
       "[('2017-12-05', 747.0, 763.299988, 703.599976, 712.76001, 712.76001, 1225500),\n",
       " ('2017-12-06',\n",
       "  705.630005,\n",
       "  711.76001,\n",
       "  696.9400019999999,\n",
       "  698.650024,\n",
       "  698.650024,\n",
       "  492900),\n",
       " ('2017-12-07',\n",
       "  701.460022,\n",
       "  704.090027,\n",
       "  693.75,\n",
       "  702.340027,\n",
       "  702.340027,\n",
       "  417300),\n",
       " ('2017-12-08',\n",
       "  702.789978,\n",
       "  723.429993,\n",
       "  701.289978,\n",
       "  721.8900150000001,\n",
       "  721.8900150000001,\n",
       "  546900),\n",
       " ('2017-12-11',\n",
       "  719.590027,\n",
       "  720.799988,\n",
       "  705.780029,\n",
       "  708.6099849999999,\n",
       "  708.6099849999999,\n",
       "  501900)]"
      ]
     },
     "execution_count": 56,
     "metadata": {},
     "output_type": "execute_result"
    }
   ],
   "source": [
    "df.to_sql('AZO', con = conn, if_exists = 'replace')\n",
    "c = conn.cursor()\n",
    "c.execute(\"SELECT * FROM AZO limit 5\")\n",
    "c.fetchall()"
   ]
  },
  {
   "cell_type": "code",
   "execution_count": 59,
   "metadata": {},
   "outputs": [
    {
     "data": {
      "text/html": [
       "<div>\n",
       "<style scoped>\n",
       "    .dataframe tbody tr th:only-of-type {\n",
       "        vertical-align: middle;\n",
       "    }\n",
       "\n",
       "    .dataframe tbody tr th {\n",
       "        vertical-align: top;\n",
       "    }\n",
       "\n",
       "    .dataframe thead th {\n",
       "        text-align: right;\n",
       "    }\n",
       "</style>\n",
       "<table border=\"1\" class=\"dataframe\">\n",
       "  <thead>\n",
       "    <tr style=\"text-align: right;\">\n",
       "      <th></th>\n",
       "      <th>Open</th>\n",
       "      <th>High</th>\n",
       "      <th>Low</th>\n",
       "      <th>Close</th>\n",
       "      <th>Adj Close</th>\n",
       "      <th>Volume</th>\n",
       "    </tr>\n",
       "    <tr>\n",
       "      <th>Date</th>\n",
       "      <th></th>\n",
       "      <th></th>\n",
       "      <th></th>\n",
       "      <th></th>\n",
       "      <th></th>\n",
       "      <th></th>\n",
       "    </tr>\n",
       "  </thead>\n",
       "  <tbody>\n",
       "    <tr>\n",
       "      <th>2017-12-05</th>\n",
       "      <td>747.000000</td>\n",
       "      <td>763.299988</td>\n",
       "      <td>703.599976</td>\n",
       "      <td>712.760010</td>\n",
       "      <td>712.760010</td>\n",
       "      <td>1225500</td>\n",
       "    </tr>\n",
       "    <tr>\n",
       "      <th>2017-12-06</th>\n",
       "      <td>705.630005</td>\n",
       "      <td>711.760010</td>\n",
       "      <td>696.940002</td>\n",
       "      <td>698.650024</td>\n",
       "      <td>698.650024</td>\n",
       "      <td>492900</td>\n",
       "    </tr>\n",
       "    <tr>\n",
       "      <th>2017-12-07</th>\n",
       "      <td>701.460022</td>\n",
       "      <td>704.090027</td>\n",
       "      <td>693.750000</td>\n",
       "      <td>702.340027</td>\n",
       "      <td>702.340027</td>\n",
       "      <td>417300</td>\n",
       "    </tr>\n",
       "    <tr>\n",
       "      <th>2017-12-08</th>\n",
       "      <td>702.789978</td>\n",
       "      <td>723.429993</td>\n",
       "      <td>701.289978</td>\n",
       "      <td>721.890015</td>\n",
       "      <td>721.890015</td>\n",
       "      <td>546900</td>\n",
       "    </tr>\n",
       "    <tr>\n",
       "      <th>2017-12-11</th>\n",
       "      <td>719.590027</td>\n",
       "      <td>720.799988</td>\n",
       "      <td>705.780029</td>\n",
       "      <td>708.609985</td>\n",
       "      <td>708.609985</td>\n",
       "      <td>501900</td>\n",
       "    </tr>\n",
       "  </tbody>\n",
       "</table>\n",
       "</div>"
      ],
      "text/plain": [
       "                  Open        High         Low       Close   Adj Close  \\\n",
       "Date                                                                     \n",
       "2017-12-05  747.000000  763.299988  703.599976  712.760010  712.760010   \n",
       "2017-12-06  705.630005  711.760010  696.940002  698.650024  698.650024   \n",
       "2017-12-07  701.460022  704.090027  693.750000  702.340027  702.340027   \n",
       "2017-12-08  702.789978  723.429993  701.289978  721.890015  721.890015   \n",
       "2017-12-11  719.590027  720.799988  705.780029  708.609985  708.609985   \n",
       "\n",
       "             Volume  \n",
       "Date                 \n",
       "2017-12-05  1225500  \n",
       "2017-12-06   492900  \n",
       "2017-12-07   417300  \n",
       "2017-12-08   546900  \n",
       "2017-12-11   501900  "
      ]
     },
     "execution_count": 59,
     "metadata": {},
     "output_type": "execute_result"
    }
   ],
   "source": [
    "# THIS IS CLEANER!\n",
    "df = pd.read_sql_query(\"SELECT * FROM AZO\", con = conn, index_col = \"Date\")\n",
    "df.head()"
   ]
  },
  {
   "cell_type": "code",
   "execution_count": null,
   "metadata": {},
   "outputs": [],
   "source": [
    "conn.set_trace_callback(print)\n",
    "symbols = ['RHAT', 'IBM']\n",
    "questionmarks = ['?']*len\n",
    "\n",
    "query = \"SELECT * FROM stocks WHERE symbol in (\"+questionmarks\") and qty>?\"\n",
    "print(query)\n",
    "symbols.extend([50])\n",
    "t = symbols\n",
    "print(t)\n",
    "c.execute(query,t)\n",
    "c.fetchall()"
   ]
  }
 ],
 "metadata": {
  "kernelspec": {
   "display_name": "Python 3",
   "language": "python",
   "name": "python3"
  },
  "language_info": {
   "codemirror_mode": {
    "name": "ipython",
    "version": 3
   },
   "file_extension": ".py",
   "mimetype": "text/x-python",
   "name": "python",
   "nbconvert_exporter": "python",
   "pygments_lexer": "ipython3",
   "version": "3.7.5"
  }
 },
 "nbformat": 4,
 "nbformat_minor": 2
}
