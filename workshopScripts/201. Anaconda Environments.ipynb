{
 "cells": [
  {
   "cell_type": "markdown",
   "metadata": {},
   "source": [
    "https://grwoodw.github.io/python102/01-environments/"
   ]
  },
  {
   "cell_type": "markdown",
   "metadata": {},
   "source": [
    "## Questions\n",
    "How do I install new python libraries?\n",
    "\n",
    "How are Anaconda Environments useful to my research?\n",
    "\n",
    "## Objectives\n",
    "Create an Anaconda Environment\n",
    "\n",
    "Add packages to that environment\n",
    "\n",
    "Share environments\n",
    "\n",
    "Change environments"
   ]
  },
  {
   "cell_type": "markdown",
   "metadata": {},
   "source": [
    "* Use Anaconda Powershell Prompt"
   ]
  },
  {
   "cell_type": "code",
   "execution_count": 1,
   "metadata": {},
   "outputs": [],
   "source": [
    "f = open('../python102-windows.yml') # open a file\n",
    "lines = f.readlines() # read a file (a list of lines)"
   ]
  },
  {
   "cell_type": "code",
   "execution_count": 2,
   "metadata": {},
   "outputs": [
    {
     "data": {
      "text/plain": [
       "['name: python102\\n',\n",
       " 'channels:\\n',\n",
       " '  - defaults\\n',\n",
       " 'dependencies:\\n',\n",
       " '  - asn1crypto=1.2.0=py37_0\\n',\n",
       " '  - attrs=19.3.0=py_0\\n',\n",
       " '  - backcall=0.1.0=py37_0\\n',\n",
       " '  - blas=1.0=mkl\\n',\n",
       " '  - bleach=3.1.0=py37_0\\n',\n",
       " '  - ca-certificates=2019.11.27=0\\n',\n",
       " '  - certifi=2019.11.28=py37_0\\n',\n",
       " '  - cffi=1.13.2=py37h7a1dbc1_0\\n',\n",
       " '  - chardet=3.0.4=py37_1003\\n',\n",
       " '  - colorama=0.4.1=py37_0\\n',\n",
       " '  - cryptography=2.8=py37h7a1dbc1_0\\n',\n",
       " '  - cycler=0.10.0=py37_0\\n',\n",
       " '  - decorator=4.4.1=py_0\\n',\n",
       " '  - defusedxml=0.6.0=py_0\\n',\n",
       " '  - entrypoints=0.3=py37_0\\n',\n",
       " '  - freetype=2.9.1=ha9979f8_1\\n',\n",
       " '  - icc_rt=2019.0.0=h0cc432a_1\\n',\n",
       " '  - icu=58.2=ha66f8fd_1\\n',\n",
       " '  - idna=2.8=py37_0\\n',\n",
       " '  - importlib_metadata=1.2.0=py37_0\\n',\n",
       " '  - intel-openmp=2019.4=245\\n',\n",
       " '  - ipykernel=5.1.3=py37h39e3cac_0\\n',\n",
       " '  - ipython=7.10.1=py37h39e3cac_0\\n',\n",
       " '  - ipython_genutils=0.2.0=py37_0\\n',\n",
       " '  - ipywidgets=7.5.1=py_0\\n',\n",
       " '  - jedi=0.15.1=py37_0\\n',\n",
       " '  - jinja2=2.10.3=py_0\\n',\n",
       " '  - jpeg=9b=hb83a4c4_2\\n',\n",
       " '  - jsonschema=3.2.0=py37_0\\n',\n",
       " '  - jupyter=1.0.0=py37_7\\n',\n",
       " '  - jupyter_client=5.3.4=py37_0\\n',\n",
       " '  - jupyter_console=6.0.0=py37_0\\n',\n",
       " '  - jupyter_core=4.6.1=py37_0\\n',\n",
       " '  - kiwisolver=1.1.0=py37ha925a31_0\\n',\n",
       " '  - libiconv=1.15=h1df5818_7\\n',\n",
       " '  - libpng=1.6.37=h2a8f88b_0\\n',\n",
       " '  - libsodium=1.0.16=h9d3ae62_0\\n',\n",
       " '  - libxml2=2.9.9=h464c3ec_0\\n',\n",
       " '  - libxslt=1.1.33=h579f668_0\\n',\n",
       " '  - lxml=4.4.2=py37h1350720_0\\n',\n",
       " '  - m2w64-gcc-libgfortran=5.3.0=6\\n',\n",
       " '  - m2w64-gcc-libs=5.3.0=7\\n',\n",
       " '  - m2w64-gcc-libs-core=5.3.0=7\\n',\n",
       " '  - m2w64-gmp=6.1.0=2\\n',\n",
       " '  - m2w64-libwinpthread-git=5.0.0.4634.697f757=2\\n',\n",
       " '  - markupsafe=1.1.1=py37he774522_0\\n',\n",
       " '  - matplotlib=3.1.1=py37hc8f65d3_0\\n',\n",
       " '  - mistune=0.8.4=py37he774522_0\\n',\n",
       " '  - mkl=2019.4=245\\n',\n",
       " '  - mkl-service=2.3.0=py37hb782905_0\\n',\n",
       " '  - mkl_fft=1.0.15=py37h14836fe_0\\n',\n",
       " '  - mkl_random=1.1.0=py37h675688f_0\\n',\n",
       " '  - more-itertools=7.2.0=py37_0\\n',\n",
       " '  - msys2-conda-epoch=20160418=1\\n',\n",
       " '  - nbconvert=5.6.1=py37_0\\n',\n",
       " '  - nbformat=4.4.0=py37_0\\n',\n",
       " '  - notebook=6.0.2=py37_0\\n',\n",
       " '  - numpy=1.17.4=py37h4320e6b_0\\n',\n",
       " '  - numpy-base=1.17.4=py37hc3f5095_0\\n',\n",
       " '  - openssl=1.1.1d=he774522_3\\n',\n",
       " '  - pandas=0.25.3=py37ha925a31_0\\n',\n",
       " '  - pandas-datareader=0.8.1=py_0\\n',\n",
       " '  - pandoc=2.2.3.2=0\\n',\n",
       " '  - pandocfilters=1.4.2=py37_1\\n',\n",
       " '  - parso=0.5.1=py_0\\n',\n",
       " '  - pickleshare=0.7.5=py37_0\\n',\n",
       " '  - pip=19.3.1=py37_0\\n',\n",
       " '  - prometheus_client=0.7.1=py_0\\n',\n",
       " '  - prompt_toolkit=2.0.9=py37_0\\n',\n",
       " '  - pycparser=2.19=py37_0\\n',\n",
       " '  - pygments=2.5.2=py_0\\n',\n",
       " '  - pyopenssl=19.1.0=py37_0\\n',\n",
       " '  - pyparsing=2.4.5=py_0\\n',\n",
       " '  - pyqt=5.9.2=py37h6538335_2\\n',\n",
       " '  - pyrsistent=0.15.6=py37he774522_0\\n',\n",
       " '  - pysocks=1.7.1=py37_0\\n',\n",
       " '  - python=3.7.5=h8c8aaf0_0\\n',\n",
       " '  - python-dateutil=2.8.1=py_0\\n',\n",
       " '  - pytz=2019.3=py_0\\n',\n",
       " '  - pywin32=223=py37hfa6e2cd_1\\n',\n",
       " '  - pywinpty=0.5.5=py37_1000\\n',\n",
       " '  - pyzmq=18.1.0=py37ha925a31_0\\n',\n",
       " '  - qt=5.9.7=vc14h73c81de_0\\n',\n",
       " '  - qtconsole=4.6.0=py_0\\n',\n",
       " '  - requests=2.22.0=py37_1\\n',\n",
       " '  - scipy=1.3.2=py37h29ff71c_0\\n',\n",
       " '  - send2trash=1.5.0=py37_0\\n',\n",
       " '  - setuptools=42.0.2=py37_0\\n',\n",
       " '  - sip=4.19.8=py37h6538335_0\\n',\n",
       " '  - six=1.13.0=py37_0\\n',\n",
       " '  - sqlite=3.30.1=he774522_0\\n',\n",
       " '  - terminado=0.8.3=py37_0\\n',\n",
       " '  - testpath=0.4.4=py_0\\n',\n",
       " '  - tornado=6.0.3=py37he774522_0\\n',\n",
       " '  - traitlets=4.3.3=py37_0\\n',\n",
       " '  - urllib3=1.25.7=py37_0\\n',\n",
       " '  - vc=14.1=h0510ff6_4\\n',\n",
       " '  - vs2015_runtime=14.16.27012=hf0eaf9b_1\\n',\n",
       " '  - wcwidth=0.1.7=py37_0\\n',\n",
       " '  - webencodings=0.5.1=py37_1\\n',\n",
       " '  - wheel=0.33.6=py37_0\\n',\n",
       " '  - widgetsnbextension=3.5.1=py37_0\\n',\n",
       " '  - win_inet_pton=1.1.0=py37_0\\n',\n",
       " '  - wincertstore=0.2=py37_0\\n',\n",
       " '  - winpty=0.4.3=4\\n',\n",
       " '  - zeromq=4.3.1=h33f27b4_3\\n',\n",
       " '  - zipp=0.6.0=py_0\\n',\n",
       " '  - zlib=1.2.11=h62dcd97_3']"
      ]
     },
     "execution_count": 2,
     "metadata": {},
     "output_type": "execute_result"
    }
   ],
   "source": [
    "lines"
   ]
  },
  {
   "cell_type": "code",
   "execution_count": 3,
   "metadata": {},
   "outputs": [],
   "source": [
    "f.close()"
   ]
  },
  {
   "cell_type": "code",
   "execution_count": 4,
   "metadata": {},
   "outputs": [],
   "source": [
    "with open('../python102-windows.yml') as f:\n",
    "    lines = f.readlines()"
   ]
  },
  {
   "cell_type": "code",
   "execution_count": 5,
   "metadata": {},
   "outputs": [
    {
     "data": {
      "text/plain": [
       "'name: python102\\n'"
      ]
     },
     "execution_count": 5,
     "metadata": {},
     "output_type": "execute_result"
    }
   ],
   "source": [
    "lines[0]"
   ]
  },
  {
   "cell_type": "code",
   "execution_count": 6,
   "metadata": {},
   "outputs": [
    {
     "data": {
      "text/plain": [
       "112"
      ]
     },
     "execution_count": 6,
     "metadata": {},
     "output_type": "execute_result"
    }
   ],
   "source": [
    "len(lines)"
   ]
  },
  {
   "cell_type": "code",
   "execution_count": 7,
   "metadata": {},
   "outputs": [
    {
     "name": "stdout",
     "output_type": "stream",
     "text": [
      "name: python102\n",
      "channels:\n",
      "  - defaults\n",
      "dependencies:\n",
      "  - asn1crypto=1.2.0=py37_0\n",
      "  - attrs=19.3.0=py_0\n",
      "  - backcall=0.1.0=py37_0\n",
      "  - blas=1.0=mkl\n",
      "  - bleach=3.1.0=py37_0\n",
      "  - ca-certificates=2019.11.27=0\n",
      "  - certifi=2019.11.28=py37_0\n",
      "  - cffi=1.13.2=py37h7a1dbc1_0\n",
      "  - chardet=3.0.4=py37_1003\n",
      "  - colorama=0.4.1=py37_0\n",
      "  - cryptography=2.8=py37h7a1dbc1_0\n",
      "  - cycler=0.10.0=py37_0\n",
      "  - decorator=4.4.1=py_0\n",
      "  - defusedxml=0.6.0=py_0\n",
      "  - entrypoints=0.3=py37_0\n",
      "  - freetype=2.9.1=ha9979f8_1\n",
      "  - icc_rt=2019.0.0=h0cc432a_1\n",
      "  - icu=58.2=ha66f8fd_1\n",
      "  - idna=2.8=py37_0\n",
      "  - importlib_metadata=1.2.0=py37_0\n",
      "  - intel-openmp=2019.4=245\n",
      "  - ipykernel=5.1.3=py37h39e3cac_0\n",
      "  - ipython=7.10.1=py37h39e3cac_0\n",
      "  - ipython_genutils=0.2.0=py37_0\n",
      "  - ipywidgets=7.5.1=py_0\n",
      "  - jedi=0.15.1=py37_0\n",
      "  - jinja2=2.10.3=py_0\n",
      "  - jpeg=9b=hb83a4c4_2\n",
      "  - jsonschema=3.2.0=py37_0\n",
      "  - jupyter=1.0.0=py37_7\n",
      "  - jupyter_client=5.3.4=py37_0\n",
      "  - jupyter_console=6.0.0=py37_0\n",
      "  - jupyter_core=4.6.1=py37_0\n",
      "  - kiwisolver=1.1.0=py37ha925a31_0\n",
      "  - libiconv=1.15=h1df5818_7\n",
      "  - libpng=1.6.37=h2a8f88b_0\n",
      "  - libsodium=1.0.16=h9d3ae62_0\n",
      "  - libxml2=2.9.9=h464c3ec_0\n",
      "  - libxslt=1.1.33=h579f668_0\n",
      "  - lxml=4.4.2=py37h1350720_0\n",
      "  - m2w64-gcc-libgfortran=5.3.0=6\n",
      "  - m2w64-gcc-libs=5.3.0=7\n",
      "  - m2w64-gcc-libs-core=5.3.0=7\n",
      "  - m2w64-gmp=6.1.0=2\n",
      "  - m2w64-libwinpthread-git=5.0.0.4634.697f757=2\n",
      "  - markupsafe=1.1.1=py37he774522_0\n",
      "  - matplotlib=3.1.1=py37hc8f65d3_0\n",
      "  - mistune=0.8.4=py37he774522_0\n",
      "  - mkl=2019.4=245\n",
      "  - mkl-service=2.3.0=py37hb782905_0\n",
      "  - mkl_fft=1.0.15=py37h14836fe_0\n",
      "  - mkl_random=1.1.0=py37h675688f_0\n",
      "  - more-itertools=7.2.0=py37_0\n",
      "  - msys2-conda-epoch=20160418=1\n",
      "  - nbconvert=5.6.1=py37_0\n",
      "  - nbformat=4.4.0=py37_0\n",
      "  - notebook=6.0.2=py37_0\n",
      "  - numpy=1.17.4=py37h4320e6b_0\n",
      "  - numpy-base=1.17.4=py37hc3f5095_0\n",
      "  - openssl=1.1.1d=he774522_3\n",
      "  - pandas=0.25.3=py37ha925a31_0\n",
      "  - pandas-datareader=0.8.1=py_0\n",
      "  - pandoc=2.2.3.2=0\n",
      "  - pandocfilters=1.4.2=py37_1\n",
      "  - parso=0.5.1=py_0\n",
      "  - pickleshare=0.7.5=py37_0\n",
      "  - pip=19.3.1=py37_0\n",
      "  - prometheus_client=0.7.1=py_0\n",
      "  - prompt_toolkit=2.0.9=py37_0\n",
      "  - pycparser=2.19=py37_0\n",
      "  - pygments=2.5.2=py_0\n",
      "  - pyopenssl=19.1.0=py37_0\n",
      "  - pyparsing=2.4.5=py_0\n",
      "  - pyqt=5.9.2=py37h6538335_2\n",
      "  - pyrsistent=0.15.6=py37he774522_0\n",
      "  - pysocks=1.7.1=py37_0\n",
      "  - python=3.7.5=h8c8aaf0_0\n",
      "  - python-dateutil=2.8.1=py_0\n",
      "  - pytz=2019.3=py_0\n",
      "  - pywin32=223=py37hfa6e2cd_1\n",
      "  - pywinpty=0.5.5=py37_1000\n",
      "  - pyzmq=18.1.0=py37ha925a31_0\n",
      "  - qt=5.9.7=vc14h73c81de_0\n",
      "  - qtconsole=4.6.0=py_0\n",
      "  - requests=2.22.0=py37_1\n",
      "  - scipy=1.3.2=py37h29ff71c_0\n",
      "  - send2trash=1.5.0=py37_0\n",
      "  - setuptools=42.0.2=py37_0\n",
      "  - sip=4.19.8=py37h6538335_0\n",
      "  - six=1.13.0=py37_0\n",
      "  - sqlite=3.30.1=he774522_0\n",
      "  - terminado=0.8.3=py37_0\n",
      "  - testpath=0.4.4=py_0\n",
      "  - tornado=6.0.3=py37he774522_0\n",
      "  - traitlets=4.3.3=py37_0\n",
      "  - urllib3=1.25.7=py37_0\n",
      "  - vc=14.1=h0510ff6_4\n",
      "  - vs2015_runtime=14.16.27012=hf0eaf9b_1\n",
      "  - wcwidth=0.1.7=py37_0\n",
      "  - webencodings=0.5.1=py37_1\n",
      "  - wheel=0.33.6=py37_0\n",
      "  - widgetsnbextension=3.5.1=py37_0\n",
      "  - win_inet_pton=1.1.0=py37_0\n",
      "  - wincertstore=0.2=py37_0\n",
      "  - winpty=0.4.3=4\n",
      "  - zeromq=4.3.1=h33f27b4_3\n",
      "  - zipp=0.6.0=py_0\n",
      "  - zlib=1.2.11=h62dcd97_3\n"
     ]
    }
   ],
   "source": [
    "print(''.join(lines)) #creates a single string value by joining all the lines together"
   ]
  },
  {
   "cell_type": "code",
   "execution_count": 8,
   "metadata": {},
   "outputs": [],
   "source": [
    "with open('../python103.yml', 'w') as f: # w stands for write mode\n",
    "    f.write(''.join(lines))"
   ]
  },
  {
   "cell_type": "code",
   "execution_count": 9,
   "metadata": {},
   "outputs": [],
   "source": [
    "with open('../python104.yml', 'w') as f: # use 'a' instead of 'w' to preserve / append to previous version\n",
    "    # itterating over each line and writing them individually as opposed to a whole block\n",
    "    for line in lines:\n",
    "        f.write(line)"
   ]
  },
  {
   "cell_type": "code",
   "execution_count": 10,
   "metadata": {},
   "outputs": [],
   "source": [
    "open?"
   ]
  }
 ],
 "metadata": {
  "kernelspec": {
   "display_name": "Python 3",
   "language": "python",
   "name": "python3"
  },
  "language_info": {
   "codemirror_mode": {
    "name": "ipython",
    "version": 3
   },
   "file_extension": ".py",
   "mimetype": "text/x-python",
   "name": "python",
   "nbconvert_exporter": "python",
   "pygments_lexer": "ipython3",
   "version": "3.7.5"
  }
 },
 "nbformat": 4,
 "nbformat_minor": 2
}
